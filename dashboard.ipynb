{
 "cells": [
  {
   "cell_type": "code",
   "execution_count": null,
   "metadata": {},
   "outputs": [],
   "source": [
    "# Run the files so we can call the functions within\n",
    "# Keep in separate cells to debug\n",
    "# Function names in the file are cateloged at the bottom of each cell\n",
    "\n",
    "# Run Macro files\n",
    "%run Macro/goldsilver_price.ipynb\n",
    "# get_table()\n",
    "\n",
    "%run Macro/yield_curve.ipynb\n",
    "# get_yield_curve_vis()\n",
    "\n",
    "%run Macro/core_cpi_yoy_inflation.ipynb\n",
    "# get_inflation_vis()\n",
    "\n",
    "%run Macro/crypto.ipynb\n",
    "# get_btc_vis()\n",
    "# get_eth_vis()\n",
    "\n",
    "%run Macro/debt_to_gdp.ipynb\n",
    "# get_debt_to_gdp_vis()\n",
    "\n",
    "%run Macro/dollar_index.ipynb\n",
    "# get_dollar_index_vis()\n",
    "\n",
    "%run Macro/realestate.ipynb\n",
    "# get_re_vis()\n",
    "\n",
    "%run Macro/sector_performance.ipynb\n",
    "# get_sector_performance_vis() -- Daily\n",
    "# get_sector_performance_vis2() -- Yearly\n",
    "\n",
    "%run Macro/unemployment.ipynb\n",
    "# get_unrate_vis()\n",
    "\n",
    "%run Macro/velocity.ipynb\n",
    "# get_velocity_vis()\n",
    "\n",
    "%run Macro/commodities.ipynb\n",
    "# get_energy()\n",
    "# get_metals()\n",
    "# get_agricultural()\n",
    "# get_livestock()\n",
    "# get_industrial()\n",
    "# get_index()"
   ]
  },
  {
   "cell_type": "code",
   "execution_count": null,
   "metadata": {},
   "outputs": [],
   "source": [
    "%run Micro/get_all_functions.ipynb"
   ]
  },
  {
   "cell_type": "code",
   "execution_count": null,
   "metadata": {},
   "outputs": [],
   "source": [
    "ticker = input()"
   ]
  },
  {
   "cell_type": "code",
   "execution_count": null,
   "metadata": {},
   "outputs": [],
   "source": [
    "%run AI_ML/get_stock_prices.ipynb\n",
    "%run AI_ML/stock_ml_model.ipynb\n",
    "%run AI_ML/major_index.ipynb"
   ]
  },
  {
   "cell_type": "code",
   "execution_count": null,
   "metadata": {},
   "outputs": [],
   "source": [
    "import panel as pn\n",
    "pn.extension('plotly')"
   ]
  },
  {
   "cell_type": "code",
   "execution_count": null,
   "metadata": {},
   "outputs": [],
   "source": [
    "# Configure layout\n",
    "macrorow1 = pn.Row(get_table(), get_yield_curve_vis())\n",
    "macrorow2 = pn.Row(get_inflation_vis(), get_debt_to_gdp_vis())\n",
    "macrorow3 = pn.Row(get_dollar_index_vis(),get_velocity_vis())\n",
    "macrorow4 = pn.Row(get_btc_vis(), get_eth_vis())\n",
    "macrorow5 = pn.Row(get_unrate_vis(), get_re_vis())\n",
    "macrorow6 = pn.Row(get_sector_performance_vis(),get_sector_performance_vis2())\n",
    "macrorow7 = pn.Row(get_energy(), get_metals())\n",
    "macrorow8 = pn.Row(get_agricultural(), get_livestock())\n",
    "macrorow9 = pn.Row(get_industrial(), get_index())\n",
    "microrow1 = pn.Row(comp_over, income_chart1)\n",
    "microrow2 = pn.Row(income_chart2, bs)\n",
    "microrow3 = pn.Row(cf, fr)\n",
    "microrow4 = pn.Row(candle, bb)\n",
    "microrow5 = pn.Row(sma, rsi)\n",
    "microrow6 = pn.Row(si, macd)\n",
    "ai_row1 = pn.Row(spy_index, forecast_plot_SPY)\n",
    "ai_row2 = pn.Row(djia_index, forecast_plot_DJIA)\n",
    "ai_row3 = pn.Row(ndaq_index, forecast_plot_NDAQ)\n",
    "ai_row4 = pn.Row(iwm_index, forecast_plot_IWM)\n",
    "ai_row5 = pn.Row(max_linechart_ticker(ticker), forecast_plot)"
   ]
  },
  {
   "cell_type": "code",
   "execution_count": null,
   "metadata": {},
   "outputs": [],
   "source": [
    "# Create a Title for the Dashboard\n",
    "title = pn.pane.Markdown(\n",
    "    \"\"\"\n",
    "# The Financial Analyst's Swiss Army Knife\n",
    "\"\"\",\n",
    "    width=800,\n",
    ")\n",
    "\n",
    "welcome = pn.pane.Markdown(\n",
    "    \"\"\"\n",
    "### Hello Analysts!\n",
    "This dashboard presents tools to support a variety of financial analysis techniques.\n",
    "If you'd like to see a high-level overview of the economy, click the Macro tab. For a granular focus of stocks, click the Micro tab.\n",
    "If you'd like to see a prediction of stock market prices and volatility, click the AI tab.\n",
    "\"\"\"\n",
    ")\n",
    "\n",
    "# Create a tab layout for the dashboard\n",
    "tabs = pn.Tabs(\n",
    "    (\"Welcome\", pn.Column(welcome)),\n",
    "    (\"Macro\", pn.Column(macrorow1, macrorow2, macrorow3, macrorow4, macrorow5, macrorow6,macrorow7, macrorow8, macrorow9)),\n",
    "    (\"Micro\", pn.Column(microrow1, microrow2, microrow3, microrow4, microrow5, microrow6)),\n",
    "    (\"AI\", pn.Column(ai_row1, ai_row2, ai_row3, ai_row4, ai_row5))\n",
    " )\n",
    "\n",
    "dashboard = pn.Column(pn.Row(title), tabs, width=900)"
   ]
  },
  {
   "cell_type": "code",
   "execution_count": null,
   "metadata": {},
   "outputs": [],
   "source": [
    "dashboard.servable()"
   ]
  },
  {
   "cell_type": "code",
   "execution_count": null,
   "metadata": {},
   "outputs": [],
   "source": [
    "# Debug Macro\n",
    "#get_table()\n",
    "#get_yield_curve_vis() \n",
    "#get_btc_vis() \n",
    "# get_eth_vis()\n",
    "# get_debt_to_gdp_vis() \n",
    "# get_dollar_index_vis() \n",
    "# get_re_vis()\n",
    "# get_sector_performance_vis() \n",
    "# get_sector_performance_vis2()\n",
    "# get_unrate_vis()\n",
    "# get_velocity_vis()"
   ]
  },
  {
   "cell_type": "code",
   "execution_count": null,
   "metadata": {},
   "outputs": [],
   "source": []
  }
 ],
 "metadata": {
  "kernelspec": {
   "display_name": "Python 3",
   "language": "python",
   "name": "python3"
  },
  "language_info": {
   "codemirror_mode": {
    "name": "ipython",
    "version": 3
   },
   "file_extension": ".py",
   "mimetype": "text/x-python",
   "name": "python",
   "nbconvert_exporter": "python",
   "pygments_lexer": "ipython3",
   "version": "3.7.4"
  }
 },
 "nbformat": 4,
 "nbformat_minor": 4
}
