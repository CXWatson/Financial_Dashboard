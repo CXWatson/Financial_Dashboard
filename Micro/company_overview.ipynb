{
 "cells": [
  {
   "cell_type": "code",
   "execution_count": 1,
   "metadata": {},
   "outputs": [],
   "source": [
    "#import libraries\n",
    "import os\n",
    "import requests\n",
    "import pandas as pd\n",
    "import numpy as np\n",
    "import plotly.express as px\n",
    "import matplotlib.pyplot as plt\n",
    "import plotly.graph_objects as go"
   ]
  },
  {
   "cell_type": "code",
   "execution_count": 2,
   "metadata": {},
   "outputs": [],
   "source": [
    "#import  environment variable\n",
    "import alpha_vantage as av\n",
    "av_api_key = os.getenv(\"ALPHA_VANTAGE_API_KEY\")"
   ]
  },
  {
   "cell_type": "code",
   "execution_count": 3,
   "metadata": {},
   "outputs": [],
   "source": [
    "#Call the API\n",
    "\n",
    "def get_comp_overview(ticker):\n",
    "    base_url = 'https://www.alphavantage.co/query?'\n",
    "    function = 'OVERVIEW' \n",
    "    #symbol = input(\"Enter the ticker symbol to get the company overview: \").upper()\n",
    "\n",
    "    response = requests.get(f'{base_url}function={function}&symbol={ticker}&apikey={av_api_key}') \n",
    "    overview = response.json()\n",
    "    df_overview = pd.DataFrame(list(overview.items()))\n",
    "\n",
    "#Plot the figure\n",
    "    comp_overview = go.Figure(data=[go.Table(header=dict(values=['Type', 'Description']),\n",
    "                 cells=dict(values=[df_overview[0], df_overview[1]]))\n",
    "                     ])\n",
    "    return comp_overview"
   ]
  },
  {
   "cell_type": "code",
   "execution_count": null,
   "metadata": {},
   "outputs": [],
   "source": []
  }
 ],
 "metadata": {
  "kernelspec": {
   "display_name": "Python 3",
   "language": "python",
   "name": "python3"
  },
  "language_info": {
   "codemirror_mode": {
    "name": "ipython",
    "version": 3
   },
   "file_extension": ".py",
   "mimetype": "text/x-python",
   "name": "python",
   "nbconvert_exporter": "python",
   "pygments_lexer": "ipython3",
   "version": "3.7.6"
  }
 },
 "nbformat": 4,
 "nbformat_minor": 4
}
