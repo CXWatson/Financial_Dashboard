{
 "cells": [
  {
   "cell_type": "code",
   "execution_count": 1,
   "metadata": {},
   "outputs": [],
   "source": [
    "#import libraries\n",
    "import os\n",
    "import requests\n",
    "import pandas as pd\n",
    "import numpy as np\n",
    "import plotly.express as px\n",
    "import plotly.graph_objects as go\n",
    "\n",
    "#import  environment variable\n",
    "import alpha_vantage as av\n",
    "from alpha_vantage.sectorperformance import SectorPerformances\n",
    "av_api_key = os.getenv(\"ALPHA_VANTAGE_API_KEY\")"
   ]
  },
  {
   "cell_type": "code",
   "execution_count": null,
   "metadata": {},
   "outputs": [],
   "source": [
    "def get_cashflow_statement(ticker):\n",
    "\n",
    "    base_url = 'https://www.alphavantage.co/query?'\n",
    "    function = 'CASH_FLOW'\n",
    "\n",
    "    response = requests.get(f'{base_url}function={function}&symbol={ticker}&apikey={av_api_key}') \n",
    "    overview = response.json()\n",
    "\n",
    "    cash_overview = overview['annualReports']\n",
    "    df_cash = pd.DataFrame(cash_overview)\n",
    "\n",
    "    op_cash1 = int(pd.Series(df_cash['operatingCashflow'][0]))\n",
    "    inv_cash1 = int(pd.Series(df_cash['cashflowFromInvestment'][0]))\n",
    "    fin_cash1 = int(pd.Series(df_cash['cashflowFromFinancing'][0]))\n",
    "\n",
    "    op_cash2 = int(pd.Series(df_cash['operatingCashflow'][1]))\n",
    "    inv_cash2 = int(pd.Series(df_cash['cashflowFromInvestment'][1]))\n",
    "    fin_cash2 = int(pd.Series(df_cash['cashflowFromFinancing'][1]))\n",
    "\n",
    "    op_cash3 = int(pd.Series(df_cash['operatingCashflow'][2]))\n",
    "    inv_cash3 = int(pd.Series(df_cash['cashflowFromInvestment'][2]))\n",
    "    fin_cash3 = int(pd.Series(df_cash['cashflowFromFinancing'][2]))\n",
    "\n",
    "    op_cash4 = int(pd.Series(df_cash['operatingCashflow'][3]))\n",
    "    inv_cash4 = int(pd.Series(df_cash['cashflowFromInvestment'][3]))\n",
    "    fin_cash4 = int(pd.Series(df_cash['cashflowFromFinancing'][3]))\n",
    "\n",
    "    op_cash5 = int(pd.Series(df_cash['operatingCashflow'][4]))\n",
    "    inv_cash5 = int(pd.Series(df_cash['cashflowFromInvestment'][4]))\n",
    "    fin_cash5 = int(pd.Series(df_cash['cashflowFromFinancing'][4]))\n",
    "\n",
    "\n",
    "    year_1 = df_cash.iloc[0][0][:4]\n",
    "    year_2 = df_cash.iloc[1][0][:4]\n",
    "    year_3 = df_cash.iloc[2][0][:4]\n",
    "    year_4 = df_cash.iloc[3][0][:4]\n",
    "    year_5 = df_cash.iloc[4][0][:4]\n",
    "\n",
    "    fiscal_years = [year_1, year_2, year_3, year_4, year_5]\n",
    "    op_cash = [op_cash1, op_cash2, op_cash3, op_cash4, op_cash5]\n",
    "    inv_cash = [inv_cash1, inv_cash2, inv_cash3, inv_cash4, inv_cash5]\n",
    "    fin_cash = [fin_cash1, fin_cash2, fin_cash3, fin_cash4, fin_cash5]\n",
    "\n",
    "    cash_flow = go.Figure(data=[\n",
    "    go.Bar(name='Operating Cash', x=fiscal_years, y=op_cash),\n",
    "    go.Bar(name='Investing Cash', x=fiscal_years, y=inv_cash),\n",
    "    go.Bar(name='Financing Cash', x=fiscal_years, y=fin_cash)\n",
    "    ])\n",
    "\n",
    "    cash_flow.update_layout(barmode='group', title=f'Cashflow Statement for {ticker} for the Last 5 Years')\n",
    "    return cash_flow"
   ]
  }
 ],
 "metadata": {
  "kernelspec": {
   "display_name": "Python 3",
   "language": "python",
   "name": "python3"
  },
  "language_info": {
   "codemirror_mode": {
    "name": "ipython",
    "version": 3
   },
   "file_extension": ".py",
   "mimetype": "text/x-python",
   "name": "python",
   "nbconvert_exporter": "python",
   "pygments_lexer": "ipython3",
   "version": "3.7.6"
  }
 },
 "nbformat": 4,
 "nbformat_minor": 4
}
