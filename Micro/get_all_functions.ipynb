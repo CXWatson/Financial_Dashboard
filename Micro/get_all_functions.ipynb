{
 "cells": [
  {
   "cell_type": "code",
   "execution_count": 1,
   "metadata": {},
   "outputs": [],
   "source": [
    "import time"
   ]
  },
  {
   "cell_type": "code",
   "execution_count": 2,
   "metadata": {},
   "outputs": [],
   "source": [
    "%run company_overview.ipynb\n",
    "%run waterfall_chart_income.ipynb\n",
    "%run balance_sheet.ipynb\n",
    "%run cashflow_statement.ipynb\n",
    "%run financial_ratios.ipynb\n",
    "%run bollinger_bands_indicator.ipynb\n",
    "%run simple_moving_indicator.ipynb\n",
    "%run relative_strength_indicator.ipynb\n",
    "%run stochastic_indicator.ipynb\n",
    "%run macd_indicator.ipynb\n",
    "%run candlestick.ipynb"
   ]
  },
  {
   "cell_type": "code",
   "execution_count": 3,
   "metadata": {},
   "outputs": [],
   "source": [
    "def get_all_functions():\n",
    "    ticker = input(\"Enter ticker symbol: \").upper()\n",
    "    comp_over = get_comp_overview(ticker)\n",
    "    income_chart1, income_chart2, = get_income_chart(ticker)\n",
    "    bs = get_balance_sheet(ticker)\n",
    "    cf = get_cashflow_statement(ticker)\n",
    "    time.sleep(65)\n",
    "    fr = get_financial_ratios(ticker)\n",
    "    bb = get_bband_indicator(ticker)\n",
    "    sma = get_sma_indicator(ticker)\n",
    "    time.sleep(65)\n",
    "    rsi = get_relative_strength(ticker)\n",
    "    si = get_stochastic_indicator(ticker)\n",
    "    macd = get_macd_indicator(ticker)\n",
    "    candle = get_candlestick(ticker)\n",
    "    return comp_over, income_chart1, income_chart2, bs, cf, fr, bb, sma, rsi, si, macd, candle"
   ]
  },
  {
   "cell_type": "code",
   "execution_count": 4,
   "metadata": {},
   "outputs": [
    {
     "name": "stdin",
     "output_type": "stream",
     "text": [
      "Enter ticker symbol:  aapl\n"
     ]
    }
   ],
   "source": [
    "comp_over, income_chart1, income_chart2, bs, cf, fr, bb, sma, rsi, si, macd, candle = get_all_functions()"
   ]
  },
  {
   "cell_type": "code",
   "execution_count": null,
   "metadata": {},
   "outputs": [],
   "source": []
  }
 ],
 "metadata": {
  "kernelspec": {
   "display_name": "Python 3",
   "language": "python",
   "name": "python3"
  },
  "language_info": {
   "codemirror_mode": {
    "name": "ipython",
    "version": 3
   },
   "file_extension": ".py",
   "mimetype": "text/x-python",
   "name": "python",
   "nbconvert_exporter": "python",
   "pygments_lexer": "ipython3",
   "version": "3.7.6"
  }
 },
 "nbformat": 4,
 "nbformat_minor": 4
}
