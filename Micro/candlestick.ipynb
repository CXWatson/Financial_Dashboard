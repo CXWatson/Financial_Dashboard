{
 "cells": [
  {
   "cell_type": "code",
   "execution_count": 1,
   "metadata": {},
   "outputs": [],
   "source": [
    "#import libraries\n",
    "import os\n",
    "import requests\n",
    "import pandas as pd\n",
    "import numpy as np\n",
    "import plotly.express as px\n",
    "import plotly.graph_objects as go\n",
    "import json"
   ]
  },
  {
   "cell_type": "code",
   "execution_count": 2,
   "metadata": {},
   "outputs": [],
   "source": [
    "#import  environment variable\n",
    "import alpha_vantage as av\n",
    "fmp_api_key = os.getenv(\"FINANCIAL_MODEL_PREP_KEY\")"
   ]
  },
  {
   "cell_type": "code",
   "execution_count": 3,
   "metadata": {},
   "outputs": [],
   "source": [
    "#candlestick\n",
    "\n",
    "def get_candlestick(ticker):\n",
    "    #symbol = input(\"Enter a ticker symbol: \").upper()\n",
    "    response = requests.get(f\"https://financialmodelingprep.com/api/v3/historical-price-full/{ticker}?apikey={fmp_api_key}\")\n",
    "    response = response.json()\n",
    "\n",
    "    data = response['historical']\n",
    "\n",
    "    df = pd.DataFrame.from_dict(data)\n",
    "\n",
    "    candlestick = go.Figure(data=[go.Candlestick(x=df['date'],\n",
    "                open=df['open'],\n",
    "                high=df['high'],\n",
    "                low=df['low'],\n",
    "                close=df['close'])])\n",
    "\n",
    "\n",
    "    candlestick.update_layout(\n",
    "            title = f\"Candlestick Chart for {ticker}\",\n",
    "            showlegend = True\n",
    "    )\n",
    "\n",
    "    return candlestick"
   ]
  },
  {
   "cell_type": "code",
   "execution_count": null,
   "metadata": {},
   "outputs": [],
   "source": []
  }
 ],
 "metadata": {
  "kernelspec": {
   "display_name": "Python 3",
   "language": "python",
   "name": "python3"
  },
  "language_info": {
   "codemirror_mode": {
    "name": "ipython",
    "version": 3
   },
   "file_extension": ".py",
   "mimetype": "text/x-python",
   "name": "python",
   "nbconvert_exporter": "python",
   "pygments_lexer": "ipython3",
   "version": "3.7.6"
  }
 },
 "nbformat": 4,
 "nbformat_minor": 4
}
