{
 "cells": [
  {
   "cell_type": "code",
   "execution_count": 3,
   "metadata": {},
   "outputs": [],
   "source": [
    "#import libraries\n",
    "import os\n",
    "import requests\n",
    "import pandas as pd\n",
    "import numpy as np\n",
    "import plotly.express as px\n",
    "import plotly.graph_objects as go\n",
    "\n",
    "#import  environment variable\n",
    "import alpha_vantage as av\n",
    "from alpha_vantage.sectorperformance import SectorPerformances\n",
    "av_api_key = os.getenv(\"ALPHA_VANTAGE_API_KEY\")"
   ]
  },
  {
   "cell_type": "code",
   "execution_count": 5,
   "metadata": {},
   "outputs": [],
   "source": [
    "def get_balance_sheet(ticker):\n",
    "    base_url = 'https://www.alphavantage.co/query?'\n",
    "    function = 'BALANCE_SHEET'\n",
    "\n",
    "    response = requests.get(f'{base_url}function={function}&symbol={ticker}&apikey={av_api_key}') \n",
    "    overview = response.json()\n",
    "\n",
    "    balance_overview = overview['annualReports']\n",
    "    df_balance = pd.DataFrame(balance_overview)\n",
    "\n",
    "    total_assets1 = int(pd.Series(df_balance['totalAssets'][0]))\n",
    "    total_liabilities1 = int(pd.Series(df_balance['totalLiabilities'][0]))\n",
    "    total_equity1 = int(pd.Series(df_balance['totalShareholderEquity'][0]))\n",
    "\n",
    "    total_assets2 = int(pd.Series(df_balance['totalAssets'][1]))\n",
    "    total_liabilities2 = int(pd.Series(df_balance['totalLiabilities'][1]))\n",
    "    total_equity2 = int(pd.Series(df_balance['totalShareholderEquity'][1]))\n",
    "\n",
    "    total_assets3 = int(pd.Series(df_balance['totalAssets'][2]))\n",
    "    total_liabilities3 = int(pd.Series(df_balance['totalLiabilities'][2]))\n",
    "    total_equity3 = int(pd.Series(df_balance['totalShareholderEquity'][2]))\n",
    "\n",
    "    total_assets4 = int(pd.Series(df_balance['totalAssets'][3]))\n",
    "    total_liabilities4 = int(pd.Series(df_balance['totalLiabilities'][3]))\n",
    "    total_equity4 = int(pd.Series(df_balance['totalShareholderEquity'][3]))\n",
    "\n",
    "    total_assets5 = int(pd.Series(df_balance['totalAssets'][4]))\n",
    "    total_liabilities5 = int(pd.Series(df_balance['totalLiabilities'][4]))\n",
    "    total_equity5 = int(pd.Series(df_balance['totalShareholderEquity'][4]))\n",
    "\n",
    "    year_1 = df_balance.iloc[0][0][:4]\n",
    "    year_2 = df_balance.iloc[1][0][:4]\n",
    "    year_3 = df_balance.iloc[2][0][:4]\n",
    "    year_4 = df_balance.iloc[3][0][:4]\n",
    "    year_5 = df_balance.iloc[4][0][:4]\n",
    "\n",
    "    fiscal_years = [year_1, year_2, year_3, year_4, year_5]\n",
    "    assets = [total_assets1, total_assets2, total_assets3, total_assets4, total_assets5]\n",
    "    liabilities = [total_liabilities1, total_liabilities2, total_liabilities3, total_liabilities4, total_liabilities5]\n",
    "    equity = [total_equity1, total_equity2, total_equity3, total_equity4, total_equity5]\n",
    "\n",
    "    balance_sheet = go.Figure(data=[\n",
    "    go.Bar(name='Asset', x=fiscal_years, y=assets),\n",
    "    go.Bar(name='Liability', x=fiscal_years, y=liabilities),\n",
    "    go.Bar(name='Equity', x=fiscal_years, y=equity)\n",
    "])\n",
    "\n",
    "    balance_sheet.update_layout(barmode='stack', title=f'Balance Sheet for {ticker} for the Last 5 Years')\n",
    "    return balance_sheet"
   ]
  },
  {
   "cell_type": "code",
   "execution_count": null,
   "metadata": {},
   "outputs": [],
   "source": []
  }
 ],
 "metadata": {
  "kernelspec": {
   "display_name": "Python 3",
   "language": "python",
   "name": "python3"
  },
  "language_info": {
   "codemirror_mode": {
    "name": "ipython",
    "version": 3
   },
   "file_extension": ".py",
   "mimetype": "text/x-python",
   "name": "python",
   "nbconvert_exporter": "python",
   "pygments_lexer": "ipython3",
   "version": "3.7.6"
  }
 },
 "nbformat": 4,
 "nbformat_minor": 4
}
