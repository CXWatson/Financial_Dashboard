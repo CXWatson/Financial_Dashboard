{
 "cells": [
  {
   "cell_type": "code",
   "execution_count": 1,
   "metadata": {},
   "outputs": [],
   "source": [
    "#import libraries\n",
    "import os\n",
    "import requests\n",
    "import pandas as pd\n",
    "import numpy as np\n",
    "import plotly.express as px\n",
    "import matplotlib.pyplot as plt"
   ]
  },
  {
   "cell_type": "code",
   "execution_count": 2,
   "metadata": {},
   "outputs": [],
   "source": [
    "#import  environment variable\n",
    "import alpha_vantage as av\n",
    "from alpha_vantage.sectorperformance import SectorPerformances\n",
    "av_api_key = os.getenv(\"ALPHA_VANTAGE_API_KEY\")"
   ]
  },
  {
   "cell_type": "code",
   "execution_count": 3,
   "metadata": {},
   "outputs": [],
   "source": [
    "#Create the figure\n",
    "\n",
    "def get_rt_sec_perf():\n",
    "\n",
    "    sp = SectorPerformances(key=av_api_key, output_format='pandas')\n",
    "    data, metadata = sp.get_sector()\n",
    "    rt_sec_perf = px.bar(data['Rank A: Real-Time Performance'])\n",
    "\n",
    "    rt_sec_perf.update_layout(\n",
    "            title = \"Real Time Performance (%) per Sector\",\n",
    "            showlegend = True\n",
    "    )   \n",
    "    return rt_sec_perf"
   ]
  },
  {
   "cell_type": "code",
   "execution_count": null,
   "metadata": {},
   "outputs": [],
   "source": []
  }
 ],
 "metadata": {
  "kernelspec": {
   "display_name": "Python 3",
   "language": "python",
   "name": "python3"
  },
  "language_info": {
   "codemirror_mode": {
    "name": "ipython",
    "version": 3
   },
   "file_extension": ".py",
   "mimetype": "text/x-python",
   "name": "python",
   "nbconvert_exporter": "python",
   "pygments_lexer": "ipython3",
   "version": "3.7.6"
  }
 },
 "nbformat": 4,
 "nbformat_minor": 4
}
