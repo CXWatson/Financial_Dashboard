{
 "cells": [
  {
   "cell_type": "code",
   "execution_count": 1,
   "metadata": {},
   "outputs": [],
   "source": [
    "import requests\n",
    "import pandas as pd\n",
    "import plotly.graph_objects as go"
   ]
  },
  {
   "cell_type": "code",
   "execution_count": 2,
   "metadata": {},
   "outputs": [],
   "source": [
    "commodities = pd.read_html(\"https://tradingeconomics.com/commodities\")"
   ]
  },
  {
   "cell_type": "code",
   "execution_count": 3,
   "metadata": {},
   "outputs": [],
   "source": [
    "# Declare columns we will drop from each commodity dataframe\n",
    "columns = ['Unnamed: 0', 'Unnamed: 3', 'Date']\n",
    "\n",
    "# Create dataframes\n",
    "energy=commodities[0].drop(columns=columns)\n",
    "metals=commodities[1].drop(columns=columns)\n",
    "agricultural=commodities[2].drop(columns=columns)\n",
    "livestock=commodities[3].drop(columns=columns)\n",
    "industrial=commodities[4].drop(columns=columns)\n",
    "index=commodities[5].drop(columns=columns)"
   ]
  },
  {
   "cell_type": "code",
   "execution_count": 15,
   "metadata": {},
   "outputs": [],
   "source": [
    "# Create functions to display dataframes in plotly format\n",
    "\n",
    "def get_energy():\n",
    "    energy_table = go.Figure(data=[go.Table(\n",
    "    header=dict(values=list(energy.columns),\n",
    "                fill_color='lightgoldenrodyellow',\n",
    "                align='left'),\n",
    "    cells=dict(values=[energy.Energy, energy.Price, energy.Day, energy.Weekly, energy.Monthly, energy.Yearly],\n",
    "               fill_color='white',\n",
    "               align='left'))\n",
    "])\n",
    "    return (energy_table)\n",
    "\n",
    "def get_metals():\n",
    "    metals_table = go.Figure(data=[go.Table(\n",
    "    header=dict(values=list(metals.columns),\n",
    "                fill_color='gold',\n",
    "                align='left'),\n",
    "    cells=dict(values=[metals.Metals, metals.Price, metals.Day, metals.Weekly, metals.Monthly, metals.Yearly],\n",
    "               fill_color='white',\n",
    "               align='left'))\n",
    "])\n",
    "    return (metals_table)\n",
    "\n",
    "def get_agricultural():\n",
    "    agricultural_table = go.Figure(data=[go.Table(\n",
    "    header=dict(values=list(agricultural.columns),\n",
    "                fill_color='mediumseagreen',\n",
    "                align='left'),\n",
    "    cells=dict(values=[agricultural.Agricultural, agricultural.Price, agricultural.Day, agricultural.Weekly, agricultural.Monthly, agricultural.Yearly],\n",
    "               fill_color='white',\n",
    "               align='left'))\n",
    "])\n",
    "    return (agricultural_table)\n",
    "\n",
    "def get_livestock():\n",
    "    livestock_table = go.Figure(data=[go.Table(\n",
    "    header=dict(values=list(livestock.columns),\n",
    "                fill_color='firebrick',\n",
    "                align='left'),\n",
    "    cells=dict(values=[livestock.Livestock, livestock.Price, livestock.Day, livestock.Weekly, livestock.Monthly, livestock.Yearly],\n",
    "               fill_color='white',\n",
    "               align='left'))\n",
    "])\n",
    "    return (livestock_table)\n",
    "\n",
    "def get_industrial():\n",
    "    industrial_table = go.Figure(data=[go.Table(\n",
    "    header=dict(values=list(industrial.columns),\n",
    "                fill_color='gray',\n",
    "                align='left'),\n",
    "    cells=dict(values=[industrial.Industrial, industrial.Price, industrial.Day, industrial.Weekly, industrial.Monthly, industrial.Yearly],\n",
    "               fill_color='white',\n",
    "               align='left'))\n",
    "])\n",
    "    return (industrial_table)\n",
    "\n",
    "def get_index():\n",
    "    index_table = go.Figure(data=[go.Table(\n",
    "    header=dict(values=list(index.columns),\n",
    "                fill_color='mediumorchid',\n",
    "                align='left'),\n",
    "    cells=dict(values=[index.Index, index.Price, index.Day, index.Weekly, index.Monthly, index.Yearly],\n",
    "               fill_color='white',\n",
    "               align='left'))\n",
    "])\n",
    "    return (index_table)"
   ]
  },
  {
   "cell_type": "code",
   "execution_count": null,
   "metadata": {},
   "outputs": [],
   "source": []
  }
 ],
 "metadata": {
  "kernelspec": {
   "display_name": "Python 3",
   "language": "python",
   "name": "python3"
  },
  "language_info": {
   "codemirror_mode": {
    "name": "ipython",
    "version": 3
   },
   "file_extension": ".py",
   "mimetype": "text/x-python",
   "name": "python",
   "nbconvert_exporter": "python",
   "pygments_lexer": "ipython3",
   "version": "3.7.4"
  }
 },
 "nbformat": 4,
 "nbformat_minor": 4
}
