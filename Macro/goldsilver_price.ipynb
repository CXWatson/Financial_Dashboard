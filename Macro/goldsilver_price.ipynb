{
 "cells": [
  {
   "cell_type": "markdown",
   "metadata": {},
   "source": [
    "# Gold and Silver Prices\n",
    "\n",
    "The visualization illustrates the current USD price of Gold and Silver. It also measures the value of metals relative to other assets."
   ]
  },
  {
   "cell_type": "code",
   "execution_count": 1,
   "metadata": {},
   "outputs": [],
   "source": [
    "# Import notebook libraries and dependencies\n",
    "import os\n",
    "import requests\n",
    "import pandas as pd\n",
    "import numpy as np\n",
    "import plotly.express as px\n",
    "import alpha_vantage as av\n",
    "from alpha_vantage.foreignexchange import ForeignExchange\n",
    "import yfinance as yf\n",
    "from fredapi import Fred"
   ]
  },
  {
   "cell_type": "code",
   "execution_count": 2,
   "metadata": {},
   "outputs": [],
   "source": [
    "#Set API keys\n",
    "av_api_key = os.getenv(\"ALPHA_VANTAGE_API_KEY\")\n",
    "fred_api_key = os.getenv(\"FRED_API_KEY\")"
   ]
  },
  {
   "cell_type": "code",
   "execution_count": 3,
   "metadata": {},
   "outputs": [],
   "source": [
    "# Retreive Gold/USD exchange rate \n",
    "fe = ForeignExchange(key=av_api_key)\n",
    "data, _ = fe.get_currency_exchange_rate(from_currency='XAU',to_currency='USD')\n",
    "data['5. Exchange Rate']=pd.to_numeric(data['5. Exchange Rate'],errors='coerce')\n",
    "gold_price = round(data['5. Exchange Rate'],2)\n",
    "#print(f\"The Price of Gold is: ${gold_price}\")"
   ]
  },
  {
   "cell_type": "code",
   "execution_count": 4,
   "metadata": {},
   "outputs": [],
   "source": [
    "# Retreive Silver/USD exchange rate \n",
    "fe = ForeignExchange(key=av_api_key)\n",
    "data, _ = fe.get_currency_exchange_rate(from_currency='XAG',to_currency='USD')\n",
    "data['5. Exchange Rate']=pd.to_numeric(data['5. Exchange Rate'],errors='coerce')\n",
    "silver_price = round(data['5. Exchange Rate'],2)\n",
    "#print(f\"The Price of Silver is: ${silver_price}\")"
   ]
  },
  {
   "cell_type": "code",
   "execution_count": 5,
   "metadata": {},
   "outputs": [],
   "source": [
    "# Calculate Gold/Silver Ratio\n",
    "goldsilver_ratio = round(gold_price/silver_price,2)\n",
    "#print(f\"The Gold/Silver ratio is: {goldsilver_ratio}\")"
   ]
  },
  {
   "cell_type": "code",
   "execution_count": 6,
   "metadata": {},
   "outputs": [
    {
     "name": "stdout",
     "output_type": "stream",
     "text": [
      "[*********************100%***********************]  1 of 1 completed\n"
     ]
    }
   ],
   "source": [
    "# Retreive Dow Jones Industrial Average and \n",
    "ticker = \"^DJI\"\n",
    "ticker_data = yf.download(\n",
    "    f'{ticker}', \n",
    "    period = \"1d\",\n",
    "    interval = \"1m\")\n",
    "djia=ticker_data['Close'][-1]\n",
    "dowgold_ratio=round(djia/gold_price,2)\n",
    "#print(f\"The Dow/Gold ratio is: {dowgold_ratio}\")"
   ]
  },
  {
   "cell_type": "code",
   "execution_count": 7,
   "metadata": {},
   "outputs": [],
   "source": [
    "#Initiate response\n",
    "fred = Fred(api_key=fred_api_key)\n",
    "\n",
    "# Retrieve Federal Reserve data\n",
    "re = fred.get_series_latest_release('MSPUS')\n",
    "re = pd.DataFrame(re)\n",
    "re.columns=['Single Family Home Price']\n",
    "re.index = pd.to_datetime(re.index)\n",
    "re.index.name = 'Date'\n",
    "last_re_price = re.iloc[-1]\n",
    "\n",
    "# Calculate RE/Gold ratio\n",
    "re_gold_ratio = last_re_price/gold_price\n",
    "#print(re_gold_ratio)"
   ]
  },
  {
   "cell_type": "code",
   "execution_count": 8,
   "metadata": {},
   "outputs": [],
   "source": [
    "# Retrieve monetary base data\n",
    "money = fred.get_series_latest_release('BOGMBASE')\n",
    "money = pd.DataFrame(money)\n",
    "money.columns=['Monetary Base']\n",
    "money.index = pd.to_datetime(money.index)\n",
    "money.index.name = 'Date'\n",
    "monetary_base_billions = round(money.iloc[-1]/1000,2)\n",
    "\n",
    "# Calculate Gold/Monetary Base ratio\n",
    "gold_base_ratio = gold_price/monetary_base_billions"
   ]
  },
  {
   "cell_type": "code",
   "execution_count": 9,
   "metadata": {},
   "outputs": [],
   "source": [
    "def get_table():   \n",
    "    import plotly.graph_objects as go\n",
    "\n",
    "    table = go.Figure(data=[go.Table(header=dict(values=['Metrics', 'Values']),\n",
    "                     cells=dict(values=[['Gold Spot', 'Silver Spot', 'Gold/Silver Ratio', 'Dow/Gold Ratio', \"Real Estate/Gold Ratio\", \"Gold/Monetary Base Ratio\"], \n",
    "                                        [gold_price, silver_price, goldsilver_ratio, dowgold_ratio, round(re_gold_ratio, 2), round(gold_base_ratio,2)]]))\n",
    "                         ])\n",
    "    return(table)"
   ]
  },
  {
   "cell_type": "code",
   "execution_count": null,
   "metadata": {},
   "outputs": [],
   "source": []
  }
 ],
 "metadata": {
  "kernelspec": {
   "display_name": "Python 3",
   "language": "python",
   "name": "python3"
  },
  "language_info": {
   "codemirror_mode": {
    "name": "ipython",
    "version": 3
   },
   "file_extension": ".py",
   "mimetype": "text/x-python",
   "name": "python",
   "nbconvert_exporter": "python",
   "pygments_lexer": "ipython3",
   "version": "3.7.4"
  }
 },
 "nbformat": 4,
 "nbformat_minor": 4
}
