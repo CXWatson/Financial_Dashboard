{
 "cells": [
  {
   "cell_type": "markdown",
   "metadata": {},
   "source": [
    "# Gold and Silver Prices\n",
    "\n",
    "The visualization illustrates the current USD price of Gold and Silver."
   ]
  },
  {
   "cell_type": "code",
   "execution_count": 1,
   "metadata": {},
   "outputs": [],
   "source": [
    "# Import notebook libraries and dependencies\n",
    "import os\n",
    "import requests\n",
    "import pandas as pd\n",
    "import numpy as np\n",
    "import plotly.express as px\n",
    "import alpha_vantage as av\n",
    "from alpha_vantage.foreignexchange import ForeignExchange"
   ]
  },
  {
   "cell_type": "code",
   "execution_count": 2,
   "metadata": {},
   "outputs": [],
   "source": [
    "#Set API keys\n",
    "av_api_key = os.getenv(\"ALPHA_VANTAGE_API_KEY\")"
   ]
  },
  {
   "cell_type": "code",
   "execution_count": 3,
   "metadata": {},
   "outputs": [
    {
     "name": "stdout",
     "output_type": "stream",
     "text": [
      "The Price of Gold is: $1939.1\n"
     ]
    }
   ],
   "source": [
    "# Retreive Gold/USD exchange rate \n",
    "fe = ForeignExchange(key=av_api_key)\n",
    "data, _ = fe.get_currency_exchange_rate(from_currency='XAU',to_currency='USD')\n",
    "data['5. Exchange Rate']=pd.to_numeric(data['5. Exchange Rate'],errors='coerce')\n",
    "gold_price = round(data['5. Exchange Rate'],2)\n",
    "print(f\"The Price of Gold is: ${gold_price}\")"
   ]
  },
  {
   "cell_type": "code",
   "execution_count": 4,
   "metadata": {},
   "outputs": [
    {
     "name": "stdout",
     "output_type": "stream",
     "text": [
      "The Price of Silver is: $26.65\n"
     ]
    }
   ],
   "source": [
    "# Retreive Silver/USD exchange rate \n",
    "fe = ForeignExchange(key=av_api_key)\n",
    "data, _ = fe.get_currency_exchange_rate(from_currency='XAG',to_currency='USD')\n",
    "data['5. Exchange Rate']=pd.to_numeric(data['5. Exchange Rate'],errors='coerce')\n",
    "silver_price = round(data['5. Exchange Rate'],2)\n",
    "print(f\"The Price of Silver is: ${silver_price}\")"
   ]
  },
  {
   "cell_type": "code",
   "execution_count": 5,
   "metadata": {},
   "outputs": [
    {
     "name": "stdout",
     "output_type": "stream",
     "text": [
      "The Gold/Silver ratio is: 72.76\n"
     ]
    }
   ],
   "source": [
    "# Calculate Gold/Silver Ratio\n",
    "goldsilver_ratio = round(gold_price/silver_price,2)\n",
    "print(f\"The Gold/Silver ratio is: {goldsilver_ratio}\")"
   ]
  }
 ],
 "metadata": {
  "kernelspec": {
   "display_name": "Python 3",
   "language": "python",
   "name": "python3"
  },
  "language_info": {
   "codemirror_mode": {
    "name": "ipython",
    "version": 3
   },
   "file_extension": ".py",
   "mimetype": "text/x-python",
   "name": "python",
   "nbconvert_exporter": "python",
   "pygments_lexer": "ipython3",
   "version": "3.7.4"
  }
 },
 "nbformat": 4,
 "nbformat_minor": 4
}
