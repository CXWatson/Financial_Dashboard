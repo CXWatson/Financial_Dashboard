{
 "cells": [
  {
   "cell_type": "markdown",
   "metadata": {},
   "source": [
    "# The Fed's \"Official\" Inflation Statistic\n",
    "\n",
    "One of the central arguments throughout the history of finance is inflation.  If you open a Mirriam-Webster dictionary from the early 20th century, when the dollar was backed by precious metals, you'll see inflation was defined as an increase in the money supply, from the Latin 'inflare'-to blow into. An increase in prices was merely the effect of inflation.  \n",
    "\n",
    "Today the definition pertains to the effects rather than the root cause.  This is an important distinction because it's imperative to understand how our political entities view these concepts.\n",
    "\n",
    "When the FED speaks about inflation, they're referring to the core CPI yoy.  In English that's the increase in consumer prices, less food and energy, adjusted for seasonality."
   ]
  },
  {
   "cell_type": "code",
   "execution_count": 1,
   "metadata": {},
   "outputs": [],
   "source": [
    "# Import notebook libraries and dependencies\n",
    "import os\n",
    "import requests\n",
    "import pandas as pd\n",
    "import numpy as np\n",
    "import plotly.express as px\n",
    "from fredapi import Fred"
   ]
  },
  {
   "cell_type": "code",
   "execution_count": 2,
   "metadata": {},
   "outputs": [],
   "source": [
    "#Set API keys\n",
    "fred_api_key = os.getenv(\"FRED_API_KEY\")"
   ]
  },
  {
   "cell_type": "code",
   "execution_count": 3,
   "metadata": {},
   "outputs": [],
   "source": [
    "#Initiate response\n",
    "fred = Fred(api_key=fred_api_key)\n",
    "\n",
    "# Retrieve Federal Reserve data\n",
    "inflation = fred.get_series_latest_release('CPILFESL')\n",
    "inflation = pd.DataFrame(inflation)\n",
    "inflation.columns=['Inflation']\n",
    "inflation.index = pd.to_datetime(inflation.index)\n",
    "inflation.index.name = 'Date'\n",
    "#inflation"
   ]
  },
  {
   "cell_type": "code",
   "execution_count": 4,
   "metadata": {},
   "outputs": [],
   "source": [
    "def get_inflation_vis():\n",
    "    inflation_vis = px.line(inflation, x=inflation.index, y=\"Inflation\", title='The FEDs Inflation Statistic')\n",
    "    inflation_vis.update_xaxes(\n",
    "        rangeslider_visible=True,\n",
    "        rangeselector=dict(\n",
    "            buttons=list([\n",
    "                dict(count=1, label=\"1m\", step=\"month\", stepmode=\"backward\"),\n",
    "                dict(count=6, label=\"6m\", step=\"month\", stepmode=\"backward\"),\n",
    "                dict(count=1, label=\"YTD\", step=\"year\", stepmode=\"todate\"),\n",
    "                dict(count=1, label=\"1y\", step=\"year\", stepmode=\"backward\"),\n",
    "                dict(step=\"all\")\n",
    "            ])\n",
    "        )\n",
    "    )\n",
    "    return(inflation_vis)"
   ]
  },
  {
   "cell_type": "code",
   "execution_count": null,
   "metadata": {},
   "outputs": [],
   "source": []
  }
 ],
 "metadata": {
  "kernelspec": {
   "display_name": "Python 3",
   "language": "python",
   "name": "python3"
  },
  "language_info": {
   "codemirror_mode": {
    "name": "ipython",
    "version": 3
   },
   "file_extension": ".py",
   "mimetype": "text/x-python",
   "name": "python",
   "nbconvert_exporter": "python",
   "pygments_lexer": "ipython3",
   "version": "3.7.4"
  }
 },
 "nbformat": 4,
 "nbformat_minor": 4
}
