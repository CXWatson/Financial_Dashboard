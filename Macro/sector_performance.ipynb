{
 "cells": [
  {
   "cell_type": "markdown",
   "metadata": {},
   "source": [
    "# Daily and Yearly Sector Performances\n",
    "\n",
    "The visualization illustrates the daily percentage gain or loss in each of the 10 distinct sectors of the economy."
   ]
  },
  {
   "cell_type": "code",
   "execution_count": null,
   "metadata": {},
   "outputs": [],
   "source": [
    "# Import notebook libraries and dependencies\n",
    "import os\n",
    "import requests\n",
    "import pandas as pd\n",
    "import numpy as np\n",
    "import plotly.express as px\n",
    "import alpha_vantage as av\n",
    "from alpha_vantage.sectorperformance import SectorPerformances"
   ]
  },
  {
   "cell_type": "code",
   "execution_count": null,
   "metadata": {},
   "outputs": [],
   "source": [
    "# Set API key\n",
    "av_api_key = os.getenv(\"ALPHA_VANTAGE_API_KEY\")"
   ]
  },
  {
   "cell_type": "code",
   "execution_count": null,
   "metadata": {},
   "outputs": [],
   "source": [
    "# Retreive sector performances\n",
    "sp = SectorPerformances(key=av_api_key, output_format='pandas')\n",
    "data, meta_data = sp.get_sector()\n",
    "percent_data = data.mul(100, axis=1)"
   ]
  },
  {
   "cell_type": "code",
   "execution_count": null,
   "metadata": {},
   "outputs": [],
   "source": [
    "# Graph daily performances\n",
    "sector_performance_vis = px.bar(percent_data, y='Rank B: Day Performance', x=percent_data.index, text='Rank B: Day Performance', title='Daily Performance per Sector (%)')\n",
    "sector_performance_vis.update_traces(texttemplate='%{text:.2s}', textposition='inside')\n",
    "sector_performance_vis.update_layout(uniformtext_minsize=8, uniformtext_mode='hide')\n",
    "sector_performance_vis"
   ]
  },
  {
   "cell_type": "code",
   "execution_count": null,
   "metadata": {},
   "outputs": [],
   "source": [
    "# Graph yearly performances\n",
    "sector_performance_vis2 = px.bar(percent_data, y='Rank G: Year Performance', x=percent_data.index, text='Rank G: Year Performance', title='Yearly Performance per Sector (%)')\n",
    "sector_performance_vis2.update_traces(texttemplate='%{text:.2s}', textposition='inside')\n",
    "sector_performance_vis2.update_layout(uniformtext_minsize=8, uniformtext_mode='hide')\n",
    "sector_performance_vis2"
   ]
  },
  {
   "cell_type": "code",
   "execution_count": null,
   "metadata": {},
   "outputs": [],
   "source": []
  }
 ],
 "metadata": {
  "kernelspec": {
   "display_name": "Python 3",
   "language": "python",
   "name": "python3"
  },
  "language_info": {
   "codemirror_mode": {
    "name": "ipython",
    "version": 3
   },
   "file_extension": ".py",
   "mimetype": "text/x-python",
   "name": "python",
   "nbconvert_exporter": "python",
   "pygments_lexer": "ipython3",
   "version": "3.7.4"
  }
 },
 "nbformat": 4,
 "nbformat_minor": 4
}
