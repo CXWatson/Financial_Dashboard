{
 "cells": [
  {
   "cell_type": "code",
   "execution_count": 1,
   "metadata": {},
   "outputs": [],
   "source": [
    "import requests\n",
    "import pandas as pd\n",
    "import plotly.graph_objects as go"
   ]
  },
  {
   "cell_type": "code",
   "execution_count": 2,
   "metadata": {},
   "outputs": [],
   "source": [
    "currencies = pd.read_html(\"https://tradingeconomics.com/currencies\")"
   ]
  },
  {
   "cell_type": "code",
   "execution_count": 3,
   "metadata": {},
   "outputs": [],
   "source": [
    "# Declare columns we will drop from each commodity dataframe\n",
    "columns = ['Unnamed: 0', 'Unnamed: 3', 'Date']\n",
    "\n",
    "# Create dataframes\n",
    "major_currencies=currencies[0].drop(columns=columns)"
   ]
  },
  {
   "cell_type": "code",
   "execution_count": 4,
   "metadata": {},
   "outputs": [],
   "source": [
    "# Create functions to display dataframes in plotly format\n",
    "\n",
    "def get_major_currencies():\n",
    "    major_currencies_table = go.Figure(data=[go.Table(\n",
    "    header=dict(values=list(major_currencies.columns),\n",
    "                fill_color='lightgreen',\n",
    "                align='left'),\n",
    "    cells=dict(values=[major_currencies.Major, major_currencies.Price, major_currencies.Day, major_currencies.Weekly, major_currencies.Monthly, major_currencies.Yearly],\n",
    "               fill_color='white',\n",
    "               align='left'))\n",
    "])\n",
    "    return (major_currencies_table)"
   ]
  },
  {
   "cell_type": "code",
   "execution_count": null,
   "metadata": {},
   "outputs": [],
   "source": []
  }
 ],
 "metadata": {
  "kernelspec": {
   "display_name": "Python 3",
   "language": "python",
   "name": "python3"
  },
  "language_info": {
   "codemirror_mode": {
    "name": "ipython",
    "version": 3
   },
   "file_extension": ".py",
   "mimetype": "text/x-python",
   "name": "python",
   "nbconvert_exporter": "python",
   "pygments_lexer": "ipython3",
   "version": "3.7.4"
  }
 },
 "nbformat": 4,
 "nbformat_minor": 4
}
