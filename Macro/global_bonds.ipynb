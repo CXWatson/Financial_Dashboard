{
 "cells": [
  {
   "cell_type": "code",
   "execution_count": 1,
   "metadata": {},
   "outputs": [],
   "source": [
    "import requests\n",
    "import pandas as pd\n",
    "import plotly.graph_objects as go"
   ]
  },
  {
   "cell_type": "code",
   "execution_count": 2,
   "metadata": {},
   "outputs": [],
   "source": [
    "bonds = pd.read_html(\"https://tradingeconomics.com/bonds\")"
   ]
  },
  {
   "cell_type": "code",
   "execution_count": 3,
   "metadata": {},
   "outputs": [],
   "source": [
    "# Declare columns we will drop from each bond dataframe\n",
    "columns = ['Unnamed: 0', 'Unnamed: 3', 'Date']\n",
    "\n",
    "# Create dataframes\n",
    "major_10year = bonds[0].drop(columns=columns)\n",
    "europe_bonds = bonds[18].drop(columns=columns)\n",
    "america_bonds = bonds[19].drop(columns=columns)\n",
    "asia_bonds = bonds[20].drop(columns=columns)\n",
    "australia_bonds = bonds[21].drop(columns=columns)\n",
    "africa_bonds = bonds[22].drop(columns=columns)"
   ]
  },
  {
   "cell_type": "code",
   "execution_count": 5,
   "metadata": {},
   "outputs": [],
   "source": [
    "# Create functions to display dataframes in plotly format\n",
    "\n",
    "def get_major_10y():\n",
    "    major_10y_table = go.Figure(data=[go.Table(\n",
    "    header=dict(values=list(major_10year.columns),\n",
    "                fill_color='tan',\n",
    "                align='left'),\n",
    "    cells=dict(values=[major_10year['Major 10Y'], major_10year.Yield, major_10year.Day, major_10year.Weekly, major_10year.Monthly, major_10year.Yearly],\n",
    "               fill_color='white',\n",
    "               align='left'))\n",
    "])\n",
    "    return (major_10y_table)\n",
    "\n",
    "def get_europe_bonds():\n",
    "    europe_bonds_table = go.Figure(data=[go.Table(\n",
    "    header=dict(values=list(europe_bonds.columns),\n",
    "                fill_color='tan',\n",
    "                align='left'),\n",
    "    cells=dict(values=[europe_bonds.Europe, europe_bonds.Yield, europe_bonds.Day, europe_bonds.Weekly, europe_bonds.Monthly, europe_bonds.Yearly],\n",
    "               fill_color='white',\n",
    "               align='left'))\n",
    "])\n",
    "    return (europe_bonds_table)\n",
    "\n",
    "def get_america_bonds():\n",
    "    america_bonds_table = go.Figure(data=[go.Table(\n",
    "    header=dict(values=list(agricultural.columns),\n",
    "                fill_color='tan',\n",
    "                align='left'),\n",
    "    cells=dict(values=[america_bonds.America, america_bonds.Yield, america_bonds.Day, america_bonds.Weekly, america_bonds.Monthly, america_bonds.Yearly],\n",
    "               fill_color='white',\n",
    "               align='left'))\n",
    "])\n",
    "    return (america_bonds_table)\n",
    "\n",
    "def get_asia_bonds():\n",
    "    asia_bonds_table = go.Figure(data=[go.Table(\n",
    "    header=dict(values=list(asia_bonds.columns),\n",
    "                fill_color='tan',\n",
    "                align='left'),\n",
    "    cells=dict(values=[asia_bonds.Asia, asia_bonds.Yield, asia_bonds.Day, asia_bonds.Weekly, asia_bonds.Monthly, asia_bonds.Yearly],\n",
    "               fill_color='white',\n",
    "               align='left'))\n",
    "])\n",
    "    return (asia_bonds_table)\n",
    "\n",
    "def get_australia_bonds():\n",
    "    australia_bonds_table = go.Figure(data=[go.Table(\n",
    "    header=dict(values=list(australia_bonds.columns),\n",
    "                fill_color='tan',\n",
    "                align='left'),\n",
    "    cells=dict(values=[australia_bonds.Australia, australia_bonds.Price, australia_bonds.Day, australia_bonds.Weekly, australia_bonds.Monthly, australia_bonds.Yearly],\n",
    "               fill_color='white',\n",
    "               align='left'))\n",
    "])\n",
    "    return (australia_bonds_table)\n",
    "\n",
    "def get_africa_bonds():\n",
    "    africa_bonds_table = go.Figure(data=[go.Table(\n",
    "    header=dict(values=list(africa_bonds.columns),\n",
    "                fill_color='tan',\n",
    "                align='left'),\n",
    "    cells=dict(values=[africa_bonds.Africa, africa_bonds.Yield, africa_bonds.Day, africa_bonds.Weekly, africa_bonds.Monthly, africa_bonds.Yearly],\n",
    "               fill_color='white',\n",
    "               align='left'))\n",
    "])\n",
    "    return (africa_bonds_table)"
   ]
  },
  {
   "cell_type": "code",
   "execution_count": null,
   "metadata": {},
   "outputs": [],
   "source": []
  }
 ],
 "metadata": {
  "kernelspec": {
   "display_name": "Python 3",
   "language": "python",
   "name": "python3"
  },
  "language_info": {
   "codemirror_mode": {
    "name": "ipython",
    "version": 3
   },
   "file_extension": ".py",
   "mimetype": "text/x-python",
   "name": "python",
   "nbconvert_exporter": "python",
   "pygments_lexer": "ipython3",
   "version": "3.7.4"
  }
 },
 "nbformat": 4,
 "nbformat_minor": 4
}
