{
 "cells": [
  {
   "cell_type": "markdown",
   "metadata": {},
   "source": [
    "# Debt to GDP Ratio\n",
    "\n",
    "The results will not be up to date since The Federal Reserve does not frequently update their data.  While it's not real-time data, it is the \"Official\" figure."
   ]
  },
  {
   "cell_type": "code",
   "execution_count": 45,
   "metadata": {},
   "outputs": [],
   "source": [
    "# Import notebook libraries and dependencies\n",
    "import os\n",
    "import requests\n",
    "import pandas as pd\n",
    "import numpy as np\n",
    "import plotly.express as px\n",
    "from fredapi import Fred"
   ]
  },
  {
   "cell_type": "code",
   "execution_count": 46,
   "metadata": {},
   "outputs": [],
   "source": [
    "#Set API keys\n",
    "fred_api_key = os.getenv(\"FRED_API_KEY\")"
   ]
  },
  {
   "cell_type": "code",
   "execution_count": 57,
   "metadata": {},
   "outputs": [],
   "source": [
    "#Initiate response\n",
    "fred = Fred(api_key=fred_api_key)\n",
    "\n",
    "# Retrieve Federal Reserve data\n",
    "debt_to_gdp = fred.get_series_latest_release('GFDEGDQ188S')\n",
    "debt_to_gdp = pd.DataFrame(debt_to_gdp)\n",
    "debt_to_gdp.columns=['Debt/GDP Ratio']\n",
    "debt_to_gdp.index = pd.to_datetime(df.index)\n",
    "debt_to_gdp.index.name = 'Date'\n",
    "#debt_to_gdp"
   ]
  },
  {
   "cell_type": "code",
   "execution_count": 59,
   "metadata": {},
   "outputs": [
    {
     "data": {
      "application/vnd.plotly.v1+json": {
       "config": {
        "plotlyServerURL": "https://plot.ly"
       },
       "data": [
        {
         "hovertemplate": "x=%{x}<br>Debt/GDP Ratio=%{y}<extra></extra>",
         "legendgroup": "",
         "line": {
          "color": "#636efa",
          "dash": "solid"
         },
         "mode": "lines",
         "name": "",
         "showlegend": false,
         "type": "scatter",
         "x": [
          "1966-01-01T00:00:00",
          "1966-04-01T00:00:00",
          "1966-07-01T00:00:00",
          "1966-10-01T00:00:00",
          "1967-01-01T00:00:00",
          "1967-04-01T00:00:00",
          "1967-07-01T00:00:00",
          "1967-10-01T00:00:00",
          "1968-01-01T00:00:00",
          "1968-04-01T00:00:00",
          "1968-07-01T00:00:00",
          "1968-10-01T00:00:00",
          "1969-01-01T00:00:00",
          "1969-04-01T00:00:00",
          "1969-07-01T00:00:00",
          "1969-10-01T00:00:00",
          "1970-01-01T00:00:00",
          "1970-04-01T00:00:00",
          "1970-07-01T00:00:00",
          "1970-10-01T00:00:00",
          "1971-01-01T00:00:00",
          "1971-04-01T00:00:00",
          "1971-07-01T00:00:00",
          "1971-10-01T00:00:00",
          "1972-01-01T00:00:00",
          "1972-04-01T00:00:00",
          "1972-07-01T00:00:00",
          "1972-10-01T00:00:00",
          "1973-01-01T00:00:00",
          "1973-04-01T00:00:00",
          "1973-07-01T00:00:00",
          "1973-10-01T00:00:00",
          "1974-01-01T00:00:00",
          "1974-04-01T00:00:00",
          "1974-07-01T00:00:00",
          "1974-10-01T00:00:00",
          "1975-01-01T00:00:00",
          "1975-04-01T00:00:00",
          "1975-07-01T00:00:00",
          "1975-10-01T00:00:00",
          "1976-01-01T00:00:00",
          "1976-04-01T00:00:00",
          "1976-07-01T00:00:00",
          "1976-10-01T00:00:00",
          "1977-01-01T00:00:00",
          "1977-04-01T00:00:00",
          "1977-07-01T00:00:00",
          "1977-10-01T00:00:00",
          "1978-01-01T00:00:00",
          "1978-04-01T00:00:00",
          "1978-07-01T00:00:00",
          "1978-10-01T00:00:00",
          "1979-01-01T00:00:00",
          "1979-04-01T00:00:00",
          "1979-07-01T00:00:00",
          "1979-10-01T00:00:00",
          "1980-01-01T00:00:00",
          "1980-04-01T00:00:00",
          "1980-07-01T00:00:00",
          "1980-10-01T00:00:00",
          "1981-01-01T00:00:00",
          "1981-04-01T00:00:00",
          "1981-07-01T00:00:00",
          "1981-10-01T00:00:00",
          "1982-01-01T00:00:00",
          "1982-04-01T00:00:00",
          "1982-07-01T00:00:00",
          "1982-10-01T00:00:00",
          "1983-01-01T00:00:00",
          "1983-04-01T00:00:00",
          "1983-07-01T00:00:00",
          "1983-10-01T00:00:00",
          "1984-01-01T00:00:00",
          "1984-04-01T00:00:00",
          "1984-07-01T00:00:00",
          "1984-10-01T00:00:00",
          "1985-01-01T00:00:00",
          "1985-04-01T00:00:00",
          "1985-07-01T00:00:00",
          "1985-10-01T00:00:00",
          "1986-01-01T00:00:00",
          "1986-04-01T00:00:00",
          "1986-07-01T00:00:00",
          "1986-10-01T00:00:00",
          "1987-01-01T00:00:00",
          "1987-04-01T00:00:00",
          "1987-07-01T00:00:00",
          "1987-10-01T00:00:00",
          "1988-01-01T00:00:00",
          "1988-04-01T00:00:00",
          "1988-07-01T00:00:00",
          "1988-10-01T00:00:00",
          "1989-01-01T00:00:00",
          "1989-04-01T00:00:00",
          "1989-07-01T00:00:00",
          "1989-10-01T00:00:00",
          "1990-01-01T00:00:00",
          "1990-04-01T00:00:00",
          "1990-07-01T00:00:00",
          "1990-10-01T00:00:00",
          "1991-01-01T00:00:00",
          "1991-04-01T00:00:00",
          "1991-07-01T00:00:00",
          "1991-10-01T00:00:00",
          "1992-01-01T00:00:00",
          "1992-04-01T00:00:00",
          "1992-07-01T00:00:00",
          "1992-10-01T00:00:00",
          "1993-01-01T00:00:00",
          "1993-04-01T00:00:00",
          "1993-07-01T00:00:00",
          "1993-10-01T00:00:00",
          "1994-01-01T00:00:00",
          "1994-04-01T00:00:00",
          "1994-07-01T00:00:00",
          "1994-10-01T00:00:00",
          "1995-01-01T00:00:00",
          "1995-04-01T00:00:00",
          "1995-07-01T00:00:00",
          "1995-10-01T00:00:00",
          "1996-01-01T00:00:00",
          "1996-04-01T00:00:00",
          "1996-07-01T00:00:00",
          "1996-10-01T00:00:00",
          "1997-01-01T00:00:00",
          "1997-04-01T00:00:00",
          "1997-07-01T00:00:00",
          "1997-10-01T00:00:00",
          "1998-01-01T00:00:00",
          "1998-04-01T00:00:00",
          "1998-07-01T00:00:00",
          "1998-10-01T00:00:00",
          "1999-01-01T00:00:00",
          "1999-04-01T00:00:00",
          "1999-07-01T00:00:00",
          "1999-10-01T00:00:00",
          "2000-01-01T00:00:00",
          "2000-04-01T00:00:00",
          "2000-07-01T00:00:00",
          "2000-10-01T00:00:00",
          "2001-01-01T00:00:00",
          "2001-04-01T00:00:00",
          "2001-07-01T00:00:00",
          "2001-10-01T00:00:00",
          "2002-01-01T00:00:00",
          "2002-04-01T00:00:00",
          "2002-07-01T00:00:00",
          "2002-10-01T00:00:00",
          "2003-01-01T00:00:00",
          "2003-04-01T00:00:00",
          "2003-07-01T00:00:00",
          "2003-10-01T00:00:00",
          "2004-01-01T00:00:00",
          "2004-04-01T00:00:00",
          "2004-07-01T00:00:00",
          "2004-10-01T00:00:00",
          "2005-01-01T00:00:00",
          "2005-04-01T00:00:00",
          "2005-07-01T00:00:00",
          "2005-10-01T00:00:00",
          "2006-01-01T00:00:00",
          "2006-04-01T00:00:00",
          "2006-07-01T00:00:00",
          "2006-10-01T00:00:00",
          "2007-01-01T00:00:00",
          "2007-04-01T00:00:00",
          "2007-07-01T00:00:00",
          "2007-10-01T00:00:00",
          "2008-01-01T00:00:00",
          "2008-04-01T00:00:00",
          "2008-07-01T00:00:00",
          "2008-10-01T00:00:00",
          "2009-01-01T00:00:00",
          "2009-04-01T00:00:00",
          "2009-07-01T00:00:00",
          "2009-10-01T00:00:00",
          "2010-01-01T00:00:00",
          "2010-04-01T00:00:00",
          "2010-07-01T00:00:00",
          "2010-10-01T00:00:00",
          "2011-01-01T00:00:00",
          "2011-04-01T00:00:00",
          "2011-07-01T00:00:00",
          "2011-10-01T00:00:00",
          "2012-01-01T00:00:00",
          "2012-04-01T00:00:00",
          "2012-07-01T00:00:00",
          "2012-10-01T00:00:00",
          "2013-01-01T00:00:00",
          "2013-04-01T00:00:00",
          "2013-07-01T00:00:00",
          "2013-10-01T00:00:00",
          "2014-01-01T00:00:00",
          "2014-04-01T00:00:00",
          "2014-07-01T00:00:00",
          "2014-10-01T00:00:00",
          "2015-01-01T00:00:00",
          "2015-04-01T00:00:00",
          "2015-07-01T00:00:00",
          "2015-10-01T00:00:00",
          "2016-01-01T00:00:00",
          "2016-04-01T00:00:00",
          "2016-07-01T00:00:00",
          "2016-10-01T00:00:00",
          "2017-01-01T00:00:00",
          "2017-04-01T00:00:00",
          "2017-07-01T00:00:00",
          "2017-10-01T00:00:00",
          "2018-01-01T00:00:00",
          "2018-04-01T00:00:00",
          "2018-07-01T00:00:00",
          "2018-10-01T00:00:00",
          "2019-01-01T00:00:00",
          "2019-04-01T00:00:00",
          "2019-07-01T00:00:00",
          "2019-10-01T00:00:00",
          "2020-01-01T00:00:00"
         ],
         "xaxis": "x",
         "y": [
          40.33999,
          39.26763,
          39.62091,
          39.51977,
          39.20383,
          38.03292,
          38.82145,
          39.10231,
          38.42951,
          36.96379,
          37.30897,
          36.98532,
          36.19577,
          34.97403,
          35.01946,
          35.46954,
          35.38879,
          34.67329,
          34.86717,
          35.74822,
          34.50345,
          34.36089,
          35.00694,
          35.63237,
          34.72622,
          33.67383,
          33.62447,
          33.74758,
          33.29287,
          32.34466,
          32.12455,
          31.77379,
          31.76449,
          30.99462,
          30.86269,
          30.79768,
          31.53604,
          32.27817,
          32.38043,
          32.7301,
          32.98513,
          33.49464,
          33.64333,
          33.78753,
          33.65136,
          32.80422,
          32.98791,
          33.21873,
          33.5012,
          32.12444,
          32.21407,
          31.86206,
          31.53601,
          31.06277,
          30.98402,
          31.02615,
          30.94982,
          31.37303,
          31.77687,
          31.157,
          30.87284,
          30.70875,
          30.60333,
          31.35587,
          32.41298,
          32.40213,
          33.9253,
          35.18156,
          35.82911,
          36.87167,
          37.3311,
          37.17553,
          37.45447,
          37.72687,
          38.49586,
          40.08547,
          40.44121,
          41.31983,
          41.55909,
          43.78715,
          44.07415,
          45.30682,
          46.12536,
          47.55286,
          47.57835,
          48.04867,
          48.1165,
          48.55667,
          49.03151,
          49.08744,
          49.25732,
          49.71548,
          49.73276,
          49.8876,
          50.17117,
          51.38111,
          51.96856,
          52.7473,
          53.75313,
          56.03613,
          57.41652,
          57.74551,
          59.06123,
          60.68599,
          60.99679,
          61.57938,
          61.89802,
          62.52256,
          62.86657,
          63.91524,
          64.10093,
          64.66861,
          64.30709,
          64.10716,
          64.01176,
          64.38584,
          64.66271,
          65.31294,
          64.73906,
          64.18282,
          65.04171,
          64.2497,
          64.25469,
          64.44697,
          64.34428,
          63.10907,
          62.48709,
          62.77032,
          62.50988,
          61.85196,
          60.58693,
          60.40696,
          60.01334,
          59.20506,
          58.42135,
          58.34802,
          57.71743,
          55.48513,
          54.98329,
          54.24085,
          55.1304,
          54.03766,
          54.80656,
          55.75305,
          55.66835,
          56.24119,
          56.66127,
          57.85782,
          57.77057,
          58.96044,
          58.64208,
          59.4596,
          59.82355,
          60.07385,
          59.97601,
          60.66032,
          60.94141,
          60.70087,
          60.3575,
          61.28277,
          61.53482,
          61.23753,
          61.34482,
          61.83717,
          62.284,
          61.65661,
          61.97214,
          62.86259,
          64.41587,
          64.11087,
          67.57397,
          73.48998,
          77.2997,
          80.4389,
          82.59064,
          84.16278,
          86.76598,
          88.44771,
          89.93168,
          92.02388,
          93.35519,
          92.5588,
          94.85943,
          96.36931,
          97.42044,
          98.15989,
          98.82568,
          100.45154,
          101.21783,
          100.6034,
          99.34376,
          100.42722,
          102.90374,
          101.14552,
          100.5779,
          101.63324,
          100.82572,
          99.60722,
          98.92733,
          102.95654,
          104.30307,
          103.88816,
          103.99592,
          104.96121,
          103.16562,
          102.40114,
          103.19928,
          102.78255,
          104.18644,
          103.12571,
          103.72822,
          105.08967,
          104.32185,
          103.25087,
          105.47381,
          106.68579,
          107.71144
         ],
         "yaxis": "y"
        }
       ],
       "layout": {
        "autosize": true,
        "legend": {
         "tracegroupgap": 0
        },
        "template": {
         "data": {
          "bar": [
           {
            "error_x": {
             "color": "#2a3f5f"
            },
            "error_y": {
             "color": "#2a3f5f"
            },
            "marker": {
             "line": {
              "color": "#E5ECF6",
              "width": 0.5
             }
            },
            "type": "bar"
           }
          ],
          "barpolar": [
           {
            "marker": {
             "line": {
              "color": "#E5ECF6",
              "width": 0.5
             }
            },
            "type": "barpolar"
           }
          ],
          "carpet": [
           {
            "aaxis": {
             "endlinecolor": "#2a3f5f",
             "gridcolor": "white",
             "linecolor": "white",
             "minorgridcolor": "white",
             "startlinecolor": "#2a3f5f"
            },
            "baxis": {
             "endlinecolor": "#2a3f5f",
             "gridcolor": "white",
             "linecolor": "white",
             "minorgridcolor": "white",
             "startlinecolor": "#2a3f5f"
            },
            "type": "carpet"
           }
          ],
          "choropleth": [
           {
            "colorbar": {
             "outlinewidth": 0,
             "ticks": ""
            },
            "type": "choropleth"
           }
          ],
          "contour": [
           {
            "colorbar": {
             "outlinewidth": 0,
             "ticks": ""
            },
            "colorscale": [
             [
              0,
              "#0d0887"
             ],
             [
              0.1111111111111111,
              "#46039f"
             ],
             [
              0.2222222222222222,
              "#7201a8"
             ],
             [
              0.3333333333333333,
              "#9c179e"
             ],
             [
              0.4444444444444444,
              "#bd3786"
             ],
             [
              0.5555555555555556,
              "#d8576b"
             ],
             [
              0.6666666666666666,
              "#ed7953"
             ],
             [
              0.7777777777777778,
              "#fb9f3a"
             ],
             [
              0.8888888888888888,
              "#fdca26"
             ],
             [
              1,
              "#f0f921"
             ]
            ],
            "type": "contour"
           }
          ],
          "contourcarpet": [
           {
            "colorbar": {
             "outlinewidth": 0,
             "ticks": ""
            },
            "type": "contourcarpet"
           }
          ],
          "heatmap": [
           {
            "colorbar": {
             "outlinewidth": 0,
             "ticks": ""
            },
            "colorscale": [
             [
              0,
              "#0d0887"
             ],
             [
              0.1111111111111111,
              "#46039f"
             ],
             [
              0.2222222222222222,
              "#7201a8"
             ],
             [
              0.3333333333333333,
              "#9c179e"
             ],
             [
              0.4444444444444444,
              "#bd3786"
             ],
             [
              0.5555555555555556,
              "#d8576b"
             ],
             [
              0.6666666666666666,
              "#ed7953"
             ],
             [
              0.7777777777777778,
              "#fb9f3a"
             ],
             [
              0.8888888888888888,
              "#fdca26"
             ],
             [
              1,
              "#f0f921"
             ]
            ],
            "type": "heatmap"
           }
          ],
          "heatmapgl": [
           {
            "colorbar": {
             "outlinewidth": 0,
             "ticks": ""
            },
            "colorscale": [
             [
              0,
              "#0d0887"
             ],
             [
              0.1111111111111111,
              "#46039f"
             ],
             [
              0.2222222222222222,
              "#7201a8"
             ],
             [
              0.3333333333333333,
              "#9c179e"
             ],
             [
              0.4444444444444444,
              "#bd3786"
             ],
             [
              0.5555555555555556,
              "#d8576b"
             ],
             [
              0.6666666666666666,
              "#ed7953"
             ],
             [
              0.7777777777777778,
              "#fb9f3a"
             ],
             [
              0.8888888888888888,
              "#fdca26"
             ],
             [
              1,
              "#f0f921"
             ]
            ],
            "type": "heatmapgl"
           }
          ],
          "histogram": [
           {
            "marker": {
             "colorbar": {
              "outlinewidth": 0,
              "ticks": ""
             }
            },
            "type": "histogram"
           }
          ],
          "histogram2d": [
           {
            "colorbar": {
             "outlinewidth": 0,
             "ticks": ""
            },
            "colorscale": [
             [
              0,
              "#0d0887"
             ],
             [
              0.1111111111111111,
              "#46039f"
             ],
             [
              0.2222222222222222,
              "#7201a8"
             ],
             [
              0.3333333333333333,
              "#9c179e"
             ],
             [
              0.4444444444444444,
              "#bd3786"
             ],
             [
              0.5555555555555556,
              "#d8576b"
             ],
             [
              0.6666666666666666,
              "#ed7953"
             ],
             [
              0.7777777777777778,
              "#fb9f3a"
             ],
             [
              0.8888888888888888,
              "#fdca26"
             ],
             [
              1,
              "#f0f921"
             ]
            ],
            "type": "histogram2d"
           }
          ],
          "histogram2dcontour": [
           {
            "colorbar": {
             "outlinewidth": 0,
             "ticks": ""
            },
            "colorscale": [
             [
              0,
              "#0d0887"
             ],
             [
              0.1111111111111111,
              "#46039f"
             ],
             [
              0.2222222222222222,
              "#7201a8"
             ],
             [
              0.3333333333333333,
              "#9c179e"
             ],
             [
              0.4444444444444444,
              "#bd3786"
             ],
             [
              0.5555555555555556,
              "#d8576b"
             ],
             [
              0.6666666666666666,
              "#ed7953"
             ],
             [
              0.7777777777777778,
              "#fb9f3a"
             ],
             [
              0.8888888888888888,
              "#fdca26"
             ],
             [
              1,
              "#f0f921"
             ]
            ],
            "type": "histogram2dcontour"
           }
          ],
          "mesh3d": [
           {
            "colorbar": {
             "outlinewidth": 0,
             "ticks": ""
            },
            "type": "mesh3d"
           }
          ],
          "parcoords": [
           {
            "line": {
             "colorbar": {
              "outlinewidth": 0,
              "ticks": ""
             }
            },
            "type": "parcoords"
           }
          ],
          "pie": [
           {
            "automargin": true,
            "type": "pie"
           }
          ],
          "scatter": [
           {
            "marker": {
             "colorbar": {
              "outlinewidth": 0,
              "ticks": ""
             }
            },
            "type": "scatter"
           }
          ],
          "scatter3d": [
           {
            "line": {
             "colorbar": {
              "outlinewidth": 0,
              "ticks": ""
             }
            },
            "marker": {
             "colorbar": {
              "outlinewidth": 0,
              "ticks": ""
             }
            },
            "type": "scatter3d"
           }
          ],
          "scattercarpet": [
           {
            "marker": {
             "colorbar": {
              "outlinewidth": 0,
              "ticks": ""
             }
            },
            "type": "scattercarpet"
           }
          ],
          "scattergeo": [
           {
            "marker": {
             "colorbar": {
              "outlinewidth": 0,
              "ticks": ""
             }
            },
            "type": "scattergeo"
           }
          ],
          "scattergl": [
           {
            "marker": {
             "colorbar": {
              "outlinewidth": 0,
              "ticks": ""
             }
            },
            "type": "scattergl"
           }
          ],
          "scattermapbox": [
           {
            "marker": {
             "colorbar": {
              "outlinewidth": 0,
              "ticks": ""
             }
            },
            "type": "scattermapbox"
           }
          ],
          "scatterpolar": [
           {
            "marker": {
             "colorbar": {
              "outlinewidth": 0,
              "ticks": ""
             }
            },
            "type": "scatterpolar"
           }
          ],
          "scatterpolargl": [
           {
            "marker": {
             "colorbar": {
              "outlinewidth": 0,
              "ticks": ""
             }
            },
            "type": "scatterpolargl"
           }
          ],
          "scatterternary": [
           {
            "marker": {
             "colorbar": {
              "outlinewidth": 0,
              "ticks": ""
             }
            },
            "type": "scatterternary"
           }
          ],
          "surface": [
           {
            "colorbar": {
             "outlinewidth": 0,
             "ticks": ""
            },
            "colorscale": [
             [
              0,
              "#0d0887"
             ],
             [
              0.1111111111111111,
              "#46039f"
             ],
             [
              0.2222222222222222,
              "#7201a8"
             ],
             [
              0.3333333333333333,
              "#9c179e"
             ],
             [
              0.4444444444444444,
              "#bd3786"
             ],
             [
              0.5555555555555556,
              "#d8576b"
             ],
             [
              0.6666666666666666,
              "#ed7953"
             ],
             [
              0.7777777777777778,
              "#fb9f3a"
             ],
             [
              0.8888888888888888,
              "#fdca26"
             ],
             [
              1,
              "#f0f921"
             ]
            ],
            "type": "surface"
           }
          ],
          "table": [
           {
            "cells": {
             "fill": {
              "color": "#EBF0F8"
             },
             "line": {
              "color": "white"
             }
            },
            "header": {
             "fill": {
              "color": "#C8D4E3"
             },
             "line": {
              "color": "white"
             }
            },
            "type": "table"
           }
          ]
         },
         "layout": {
          "annotationdefaults": {
           "arrowcolor": "#2a3f5f",
           "arrowhead": 0,
           "arrowwidth": 1
          },
          "coloraxis": {
           "colorbar": {
            "outlinewidth": 0,
            "ticks": ""
           }
          },
          "colorscale": {
           "diverging": [
            [
             0,
             "#8e0152"
            ],
            [
             0.1,
             "#c51b7d"
            ],
            [
             0.2,
             "#de77ae"
            ],
            [
             0.3,
             "#f1b6da"
            ],
            [
             0.4,
             "#fde0ef"
            ],
            [
             0.5,
             "#f7f7f7"
            ],
            [
             0.6,
             "#e6f5d0"
            ],
            [
             0.7,
             "#b8e186"
            ],
            [
             0.8,
             "#7fbc41"
            ],
            [
             0.9,
             "#4d9221"
            ],
            [
             1,
             "#276419"
            ]
           ],
           "sequential": [
            [
             0,
             "#0d0887"
            ],
            [
             0.1111111111111111,
             "#46039f"
            ],
            [
             0.2222222222222222,
             "#7201a8"
            ],
            [
             0.3333333333333333,
             "#9c179e"
            ],
            [
             0.4444444444444444,
             "#bd3786"
            ],
            [
             0.5555555555555556,
             "#d8576b"
            ],
            [
             0.6666666666666666,
             "#ed7953"
            ],
            [
             0.7777777777777778,
             "#fb9f3a"
            ],
            [
             0.8888888888888888,
             "#fdca26"
            ],
            [
             1,
             "#f0f921"
            ]
           ],
           "sequentialminus": [
            [
             0,
             "#0d0887"
            ],
            [
             0.1111111111111111,
             "#46039f"
            ],
            [
             0.2222222222222222,
             "#7201a8"
            ],
            [
             0.3333333333333333,
             "#9c179e"
            ],
            [
             0.4444444444444444,
             "#bd3786"
            ],
            [
             0.5555555555555556,
             "#d8576b"
            ],
            [
             0.6666666666666666,
             "#ed7953"
            ],
            [
             0.7777777777777778,
             "#fb9f3a"
            ],
            [
             0.8888888888888888,
             "#fdca26"
            ],
            [
             1,
             "#f0f921"
            ]
           ]
          },
          "colorway": [
           "#636efa",
           "#EF553B",
           "#00cc96",
           "#ab63fa",
           "#FFA15A",
           "#19d3f3",
           "#FF6692",
           "#B6E880",
           "#FF97FF",
           "#FECB52"
          ],
          "font": {
           "color": "#2a3f5f"
          },
          "geo": {
           "bgcolor": "white",
           "lakecolor": "white",
           "landcolor": "#E5ECF6",
           "showlakes": true,
           "showland": true,
           "subunitcolor": "white"
          },
          "hoverlabel": {
           "align": "left"
          },
          "hovermode": "closest",
          "mapbox": {
           "style": "light"
          },
          "paper_bgcolor": "white",
          "plot_bgcolor": "#E5ECF6",
          "polar": {
           "angularaxis": {
            "gridcolor": "white",
            "linecolor": "white",
            "ticks": ""
           },
           "bgcolor": "#E5ECF6",
           "radialaxis": {
            "gridcolor": "white",
            "linecolor": "white",
            "ticks": ""
           }
          },
          "scene": {
           "xaxis": {
            "backgroundcolor": "#E5ECF6",
            "gridcolor": "white",
            "gridwidth": 2,
            "linecolor": "white",
            "showbackground": true,
            "ticks": "",
            "zerolinecolor": "white"
           },
           "yaxis": {
            "backgroundcolor": "#E5ECF6",
            "gridcolor": "white",
            "gridwidth": 2,
            "linecolor": "white",
            "showbackground": true,
            "ticks": "",
            "zerolinecolor": "white"
           },
           "zaxis": {
            "backgroundcolor": "#E5ECF6",
            "gridcolor": "white",
            "gridwidth": 2,
            "linecolor": "white",
            "showbackground": true,
            "ticks": "",
            "zerolinecolor": "white"
           }
          },
          "shapedefaults": {
           "line": {
            "color": "#2a3f5f"
           }
          },
          "ternary": {
           "aaxis": {
            "gridcolor": "white",
            "linecolor": "white",
            "ticks": ""
           },
           "baxis": {
            "gridcolor": "white",
            "linecolor": "white",
            "ticks": ""
           },
           "bgcolor": "#E5ECF6",
           "caxis": {
            "gridcolor": "white",
            "linecolor": "white",
            "ticks": ""
           }
          },
          "title": {
           "x": 0.05
          },
          "xaxis": {
           "automargin": true,
           "gridcolor": "white",
           "linecolor": "white",
           "ticks": "",
           "title": {
            "standoff": 15
           },
           "zerolinecolor": "white",
           "zerolinewidth": 2
          },
          "yaxis": {
           "automargin": true,
           "gridcolor": "white",
           "linecolor": "white",
           "ticks": "",
           "title": {
            "standoff": 15
           },
           "zerolinecolor": "white",
           "zerolinewidth": 2
          }
         }
        },
        "title": {
         "text": "U.S. Debt to GDP Ratio"
        },
        "xaxis": {
         "anchor": "y",
         "autorange": true,
         "domain": [
          0,
          1
         ],
         "range": [
          "1966-01-01",
          "2020-01-01"
         ],
         "rangeselector": {
          "buttons": [
           {
            "count": 1,
            "label": "1m",
            "step": "month",
            "stepmode": "backward"
           },
           {
            "count": 6,
            "label": "6m",
            "step": "month",
            "stepmode": "backward"
           },
           {
            "count": 1,
            "label": "YTD",
            "step": "year",
            "stepmode": "todate"
           },
           {
            "count": 1,
            "label": "1y",
            "step": "year",
            "stepmode": "backward"
           },
           {
            "step": "all"
           }
          ]
         },
         "rangeslider": {
          "autorange": true,
          "range": [
           "1966-01-01",
           "2020-01-01"
          ],
          "visible": true,
          "yaxis": {
           "_template": null,
           "rangemode": "match"
          }
         },
         "title": {
          "text": "x"
         },
         "type": "date"
        },
        "yaxis": {
         "anchor": "x",
         "autorange": true,
         "domain": [
          0,
          1
         ],
         "range": [
          26.319546111111112,
          111.99522388888889
         ],
         "title": {
          "text": "Debt/GDP Ratio"
         },
         "type": "linear"
        }
       }
      },
      "image/png": "[encoded data removed]",
      "text/html": [
       "<div>\n",
       "        \n",
       "        \n",
       "            <div id=\"5b5823a0-238a-4e04-b175-b6c8f4e359ab\" class=\"plotly-graph-div\" style=\"height:525px; width:100%;\"></div>\n",
       "            <script type=\"text/javascript\">\n",
       "                require([\"plotly\"], function(Plotly) {\n",
       "                    window.PLOTLYENV=window.PLOTLYENV || {};\n",
       "                    \n",
       "                if (document.getElementById(\"5b5823a0-238a-4e04-b175-b6c8f4e359ab\")) {\n",
       "                    Plotly.newPlot(\n",
       "                        '5b5823a0-238a-4e04-b175-b6c8f4e359ab',\n",
       "                        [{\"hovertemplate\": \"x=%{x}<br>Debt/GDP Ratio=%{y}<extra></extra>\", \"legendgroup\": \"\", \"line\": {\"color\": \"#636efa\", \"dash\": \"solid\"}, \"mode\": \"lines\", \"name\": \"\", \"showlegend\": false, \"type\": \"scatter\", \"x\": [\"1966-01-01T00:00:00\", \"1966-04-01T00:00:00\", \"1966-07-01T00:00:00\", \"1966-10-01T00:00:00\", \"1967-01-01T00:00:00\", \"1967-04-01T00:00:00\", \"1967-07-01T00:00:00\", \"1967-10-01T00:00:00\", \"1968-01-01T00:00:00\", \"1968-04-01T00:00:00\", \"1968-07-01T00:00:00\", \"1968-10-01T00:00:00\", \"1969-01-01T00:00:00\", \"1969-04-01T00:00:00\", \"1969-07-01T00:00:00\", \"1969-10-01T00:00:00\", \"1970-01-01T00:00:00\", \"1970-04-01T00:00:00\", \"1970-07-01T00:00:00\", \"1970-10-01T00:00:00\", \"1971-01-01T00:00:00\", \"1971-04-01T00:00:00\", \"1971-07-01T00:00:00\", \"1971-10-01T00:00:00\", \"1972-01-01T00:00:00\", \"1972-04-01T00:00:00\", \"1972-07-01T00:00:00\", \"1972-10-01T00:00:00\", \"1973-01-01T00:00:00\", \"1973-04-01T00:00:00\", \"1973-07-01T00:00:00\", \"1973-10-01T00:00:00\", \"1974-01-01T00:00:00\", \"1974-04-01T00:00:00\", \"1974-07-01T00:00:00\", \"1974-10-01T00:00:00\", \"1975-01-01T00:00:00\", \"1975-04-01T00:00:00\", \"1975-07-01T00:00:00\", \"1975-10-01T00:00:00\", \"1976-01-01T00:00:00\", \"1976-04-01T00:00:00\", \"1976-07-01T00:00:00\", \"1976-10-01T00:00:00\", \"1977-01-01T00:00:00\", \"1977-04-01T00:00:00\", \"1977-07-01T00:00:00\", \"1977-10-01T00:00:00\", \"1978-01-01T00:00:00\", \"1978-04-01T00:00:00\", \"1978-07-01T00:00:00\", \"1978-10-01T00:00:00\", \"1979-01-01T00:00:00\", \"1979-04-01T00:00:00\", \"1979-07-01T00:00:00\", \"1979-10-01T00:00:00\", \"1980-01-01T00:00:00\", \"1980-04-01T00:00:00\", \"1980-07-01T00:00:00\", \"1980-10-01T00:00:00\", \"1981-01-01T00:00:00\", \"1981-04-01T00:00:00\", \"1981-07-01T00:00:00\", \"1981-10-01T00:00:00\", \"1982-01-01T00:00:00\", \"1982-04-01T00:00:00\", \"1982-07-01T00:00:00\", \"1982-10-01T00:00:00\", \"1983-01-01T00:00:00\", \"1983-04-01T00:00:00\", \"1983-07-01T00:00:00\", \"1983-10-01T00:00:00\", \"1984-01-01T00:00:00\", \"1984-04-01T00:00:00\", \"1984-07-01T00:00:00\", \"1984-10-01T00:00:00\", \"1985-01-01T00:00:00\", \"1985-04-01T00:00:00\", \"1985-07-01T00:00:00\", \"1985-10-01T00:00:00\", \"1986-01-01T00:00:00\", \"1986-04-01T00:00:00\", \"1986-07-01T00:00:00\", \"1986-10-01T00:00:00\", \"1987-01-01T00:00:00\", \"1987-04-01T00:00:00\", \"1987-07-01T00:00:00\", \"1987-10-01T00:00:00\", \"1988-01-01T00:00:00\", \"1988-04-01T00:00:00\", \"1988-07-01T00:00:00\", \"1988-10-01T00:00:00\", \"1989-01-01T00:00:00\", \"1989-04-01T00:00:00\", \"1989-07-01T00:00:00\", \"1989-10-01T00:00:00\", \"1990-01-01T00:00:00\", \"1990-04-01T00:00:00\", \"1990-07-01T00:00:00\", \"1990-10-01T00:00:00\", \"1991-01-01T00:00:00\", \"1991-04-01T00:00:00\", \"1991-07-01T00:00:00\", \"1991-10-01T00:00:00\", \"1992-01-01T00:00:00\", \"1992-04-01T00:00:00\", \"1992-07-01T00:00:00\", \"1992-10-01T00:00:00\", \"1993-01-01T00:00:00\", \"1993-04-01T00:00:00\", \"1993-07-01T00:00:00\", \"1993-10-01T00:00:00\", \"1994-01-01T00:00:00\", \"1994-04-01T00:00:00\", \"1994-07-01T00:00:00\", \"1994-10-01T00:00:00\", \"1995-01-01T00:00:00\", \"1995-04-01T00:00:00\", \"1995-07-01T00:00:00\", \"1995-10-01T00:00:00\", \"1996-01-01T00:00:00\", \"1996-04-01T00:00:00\", \"1996-07-01T00:00:00\", \"1996-10-01T00:00:00\", \"1997-01-01T00:00:00\", \"1997-04-01T00:00:00\", \"1997-07-01T00:00:00\", \"1997-10-01T00:00:00\", \"1998-01-01T00:00:00\", \"1998-04-01T00:00:00\", \"1998-07-01T00:00:00\", \"1998-10-01T00:00:00\", \"1999-01-01T00:00:00\", \"1999-04-01T00:00:00\", \"1999-07-01T00:00:00\", \"1999-10-01T00:00:00\", \"2000-01-01T00:00:00\", \"2000-04-01T00:00:00\", \"2000-07-01T00:00:00\", \"2000-10-01T00:00:00\", \"2001-01-01T00:00:00\", \"2001-04-01T00:00:00\", \"2001-07-01T00:00:00\", \"2001-10-01T00:00:00\", \"2002-01-01T00:00:00\", \"2002-04-01T00:00:00\", \"2002-07-01T00:00:00\", \"2002-10-01T00:00:00\", \"2003-01-01T00:00:00\", \"2003-04-01T00:00:00\", \"2003-07-01T00:00:00\", \"2003-10-01T00:00:00\", \"2004-01-01T00:00:00\", \"2004-04-01T00:00:00\", \"2004-07-01T00:00:00\", \"2004-10-01T00:00:00\", \"2005-01-01T00:00:00\", \"2005-04-01T00:00:00\", \"2005-07-01T00:00:00\", \"2005-10-01T00:00:00\", \"2006-01-01T00:00:00\", \"2006-04-01T00:00:00\", \"2006-07-01T00:00:00\", \"2006-10-01T00:00:00\", \"2007-01-01T00:00:00\", \"2007-04-01T00:00:00\", \"2007-07-01T00:00:00\", \"2007-10-01T00:00:00\", \"2008-01-01T00:00:00\", \"2008-04-01T00:00:00\", \"2008-07-01T00:00:00\", \"2008-10-01T00:00:00\", \"2009-01-01T00:00:00\", \"2009-04-01T00:00:00\", \"2009-07-01T00:00:00\", \"2009-10-01T00:00:00\", \"2010-01-01T00:00:00\", \"2010-04-01T00:00:00\", \"2010-07-01T00:00:00\", \"2010-10-01T00:00:00\", \"2011-01-01T00:00:00\", \"2011-04-01T00:00:00\", \"2011-07-01T00:00:00\", \"2011-10-01T00:00:00\", \"2012-01-01T00:00:00\", \"2012-04-01T00:00:00\", \"2012-07-01T00:00:00\", \"2012-10-01T00:00:00\", \"2013-01-01T00:00:00\", \"2013-04-01T00:00:00\", \"2013-07-01T00:00:00\", \"2013-10-01T00:00:00\", \"2014-01-01T00:00:00\", \"2014-04-01T00:00:00\", \"2014-07-01T00:00:00\", \"2014-10-01T00:00:00\", \"2015-01-01T00:00:00\", \"2015-04-01T00:00:00\", \"2015-07-01T00:00:00\", \"2015-10-01T00:00:00\", \"2016-01-01T00:00:00\", \"2016-04-01T00:00:00\", \"2016-07-01T00:00:00\", \"2016-10-01T00:00:00\", \"2017-01-01T00:00:00\", \"2017-04-01T00:00:00\", \"2017-07-01T00:00:00\", \"2017-10-01T00:00:00\", \"2018-01-01T00:00:00\", \"2018-04-01T00:00:00\", \"2018-07-01T00:00:00\", \"2018-10-01T00:00:00\", \"2019-01-01T00:00:00\", \"2019-04-01T00:00:00\", \"2019-07-01T00:00:00\", \"2019-10-01T00:00:00\", \"2020-01-01T00:00:00\"], \"xaxis\": \"x\", \"y\": [40.33999, 39.26763, 39.62091, 39.51977, 39.20383, 38.03292, 38.82145, 39.10231, 38.42951, 36.96379, 37.30897, 36.98532, 36.19577, 34.97403, 35.01946, 35.46954, 35.38879, 34.67329, 34.86717, 35.74822, 34.50345, 34.36089, 35.00694, 35.63237, 34.72622, 33.67383, 33.62447, 33.74758, 33.29287, 32.34466, 32.12455, 31.77379, 31.76449, 30.99462, 30.86269, 30.79768, 31.53604, 32.27817, 32.38043, 32.7301, 32.98513, 33.49464, 33.64333, 33.78753, 33.65136, 32.80422, 32.98791, 33.21873, 33.5012, 32.12444, 32.21407, 31.86206, 31.53601, 31.06277, 30.98402, 31.02615, 30.94982, 31.37303, 31.77687, 31.157, 30.87284, 30.70875, 30.60333, 31.35587, 32.41298, 32.40213, 33.9253, 35.18156, 35.82911, 36.87167, 37.3311, 37.17553, 37.45447, 37.72687, 38.49586, 40.08547, 40.44121, 41.31983, 41.55909, 43.78715, 44.07415, 45.30682, 46.12536, 47.55286, 47.57835, 48.04867, 48.1165, 48.55667, 49.03151, 49.08744, 49.25732, 49.71548, 49.73276, 49.8876, 50.17117, 51.38111, 51.96856, 52.7473, 53.75313, 56.03613, 57.41652, 57.74551, 59.06123, 60.68599, 60.99679, 61.57938, 61.89802, 62.52256, 62.86657, 63.91524, 64.10093, 64.66861, 64.30709, 64.10716, 64.01176, 64.38584, 64.66271, 65.31294, 64.73906, 64.18282, 65.04171, 64.2497, 64.25469, 64.44697, 64.34428, 63.10907, 62.48709, 62.77032, 62.50988, 61.85196, 60.58693, 60.40696, 60.01334, 59.20506, 58.42135, 58.34802, 57.71743, 55.48513, 54.98329, 54.24085, 55.1304, 54.03766, 54.80656, 55.75305, 55.66835, 56.24119, 56.66127, 57.85782, 57.77057, 58.96044, 58.64208, 59.4596, 59.82355, 60.07385, 59.97601, 60.66032, 60.94141, 60.70087, 60.3575, 61.28277, 61.53482, 61.23753, 61.34482, 61.83717, 62.284, 61.65661, 61.97214, 62.86259, 64.41587, 64.11087, 67.57397, 73.48998, 77.2997, 80.4389, 82.59064, 84.16278, 86.76598, 88.44771, 89.93168, 92.02388, 93.35519, 92.5588, 94.85943, 96.36931, 97.42044, 98.15989, 98.82568, 100.45154, 101.21783, 100.6034, 99.34376, 100.42722, 102.90374, 101.14552, 100.5779, 101.63324, 100.82572, 99.60722, 98.92733, 102.95654, 104.30307, 103.88816, 103.99592, 104.96121, 103.16562, 102.40114, 103.19928, 102.78255, 104.18644, 103.12571, 103.72822, 105.08967, 104.32185, 103.25087, 105.47381, 106.68579, 107.71144], \"yaxis\": \"y\"}],\n",
       "                        {\"legend\": {\"tracegroupgap\": 0}, \"template\": {\"data\": {\"bar\": [{\"error_x\": {\"color\": \"#2a3f5f\"}, \"error_y\": {\"color\": \"#2a3f5f\"}, \"marker\": {\"line\": {\"color\": \"#E5ECF6\", \"width\": 0.5}}, \"type\": \"bar\"}], \"barpolar\": [{\"marker\": {\"line\": {\"color\": \"#E5ECF6\", \"width\": 0.5}}, \"type\": \"barpolar\"}], \"carpet\": [{\"aaxis\": {\"endlinecolor\": \"#2a3f5f\", \"gridcolor\": \"white\", \"linecolor\": \"white\", \"minorgridcolor\": \"white\", \"startlinecolor\": \"#2a3f5f\"}, \"baxis\": {\"endlinecolor\": \"#2a3f5f\", \"gridcolor\": \"white\", \"linecolor\": \"white\", \"minorgridcolor\": \"white\", \"startlinecolor\": \"#2a3f5f\"}, \"type\": \"carpet\"}], \"choropleth\": [{\"colorbar\": {\"outlinewidth\": 0, \"ticks\": \"\"}, \"type\": \"choropleth\"}], \"contour\": [{\"colorbar\": {\"outlinewidth\": 0, \"ticks\": \"\"}, \"colorscale\": [[0.0, \"#0d0887\"], [0.1111111111111111, \"#46039f\"], [0.2222222222222222, \"#7201a8\"], [0.3333333333333333, \"#9c179e\"], [0.4444444444444444, \"#bd3786\"], [0.5555555555555556, \"#d8576b\"], [0.6666666666666666, \"#ed7953\"], [0.7777777777777778, \"#fb9f3a\"], [0.8888888888888888, \"#fdca26\"], [1.0, \"#f0f921\"]], \"type\": \"contour\"}], \"contourcarpet\": [{\"colorbar\": {\"outlinewidth\": 0, \"ticks\": \"\"}, \"type\": \"contourcarpet\"}], \"heatmap\": [{\"colorbar\": {\"outlinewidth\": 0, \"ticks\": \"\"}, \"colorscale\": [[0.0, \"#0d0887\"], [0.1111111111111111, \"#46039f\"], [0.2222222222222222, \"#7201a8\"], [0.3333333333333333, \"#9c179e\"], [0.4444444444444444, \"#bd3786\"], [0.5555555555555556, \"#d8576b\"], [0.6666666666666666, \"#ed7953\"], [0.7777777777777778, \"#fb9f3a\"], [0.8888888888888888, \"#fdca26\"], [1.0, \"#f0f921\"]], \"type\": \"heatmap\"}], \"heatmapgl\": [{\"colorbar\": {\"outlinewidth\": 0, \"ticks\": \"\"}, \"colorscale\": [[0.0, \"#0d0887\"], [0.1111111111111111, \"#46039f\"], [0.2222222222222222, \"#7201a8\"], [0.3333333333333333, \"#9c179e\"], [0.4444444444444444, \"#bd3786\"], [0.5555555555555556, \"#d8576b\"], [0.6666666666666666, \"#ed7953\"], [0.7777777777777778, \"#fb9f3a\"], [0.8888888888888888, \"#fdca26\"], [1.0, \"#f0f921\"]], \"type\": \"heatmapgl\"}], \"histogram\": [{\"marker\": {\"colorbar\": {\"outlinewidth\": 0, \"ticks\": \"\"}}, \"type\": \"histogram\"}], \"histogram2d\": [{\"colorbar\": {\"outlinewidth\": 0, \"ticks\": \"\"}, \"colorscale\": [[0.0, \"#0d0887\"], [0.1111111111111111, \"#46039f\"], [0.2222222222222222, \"#7201a8\"], [0.3333333333333333, \"#9c179e\"], [0.4444444444444444, \"#bd3786\"], [0.5555555555555556, \"#d8576b\"], [0.6666666666666666, \"#ed7953\"], [0.7777777777777778, \"#fb9f3a\"], [0.8888888888888888, \"#fdca26\"], [1.0, \"#f0f921\"]], \"type\": \"histogram2d\"}], \"histogram2dcontour\": [{\"colorbar\": {\"outlinewidth\": 0, \"ticks\": \"\"}, \"colorscale\": [[0.0, \"#0d0887\"], [0.1111111111111111, \"#46039f\"], [0.2222222222222222, \"#7201a8\"], [0.3333333333333333, \"#9c179e\"], [0.4444444444444444, \"#bd3786\"], [0.5555555555555556, \"#d8576b\"], [0.6666666666666666, \"#ed7953\"], [0.7777777777777778, \"#fb9f3a\"], [0.8888888888888888, \"#fdca26\"], [1.0, \"#f0f921\"]], \"type\": \"histogram2dcontour\"}], \"mesh3d\": [{\"colorbar\": {\"outlinewidth\": 0, \"ticks\": \"\"}, \"type\": \"mesh3d\"}], \"parcoords\": [{\"line\": {\"colorbar\": {\"outlinewidth\": 0, \"ticks\": \"\"}}, \"type\": \"parcoords\"}], \"pie\": [{\"automargin\": true, \"type\": \"pie\"}], \"scatter\": [{\"marker\": {\"colorbar\": {\"outlinewidth\": 0, \"ticks\": \"\"}}, \"type\": \"scatter\"}], \"scatter3d\": [{\"line\": {\"colorbar\": {\"outlinewidth\": 0, \"ticks\": \"\"}}, \"marker\": {\"colorbar\": {\"outlinewidth\": 0, \"ticks\": \"\"}}, \"type\": \"scatter3d\"}], \"scattercarpet\": [{\"marker\": {\"colorbar\": {\"outlinewidth\": 0, \"ticks\": \"\"}}, \"type\": \"scattercarpet\"}], \"scattergeo\": [{\"marker\": {\"colorbar\": {\"outlinewidth\": 0, \"ticks\": \"\"}}, \"type\": \"scattergeo\"}], \"scattergl\": [{\"marker\": {\"colorbar\": {\"outlinewidth\": 0, \"ticks\": \"\"}}, \"type\": \"scattergl\"}], \"scattermapbox\": [{\"marker\": {\"colorbar\": {\"outlinewidth\": 0, \"ticks\": \"\"}}, \"type\": \"scattermapbox\"}], \"scatterpolar\": [{\"marker\": {\"colorbar\": {\"outlinewidth\": 0, \"ticks\": \"\"}}, \"type\": \"scatterpolar\"}], \"scatterpolargl\": [{\"marker\": {\"colorbar\": {\"outlinewidth\": 0, \"ticks\": \"\"}}, \"type\": \"scatterpolargl\"}], \"scatterternary\": [{\"marker\": {\"colorbar\": {\"outlinewidth\": 0, \"ticks\": \"\"}}, \"type\": \"scatterternary\"}], \"surface\": [{\"colorbar\": {\"outlinewidth\": 0, \"ticks\": \"\"}, \"colorscale\": [[0.0, \"#0d0887\"], [0.1111111111111111, \"#46039f\"], [0.2222222222222222, \"#7201a8\"], [0.3333333333333333, \"#9c179e\"], [0.4444444444444444, \"#bd3786\"], [0.5555555555555556, \"#d8576b\"], [0.6666666666666666, \"#ed7953\"], [0.7777777777777778, \"#fb9f3a\"], [0.8888888888888888, \"#fdca26\"], [1.0, \"#f0f921\"]], \"type\": \"surface\"}], \"table\": [{\"cells\": {\"fill\": {\"color\": \"#EBF0F8\"}, \"line\": {\"color\": \"white\"}}, \"header\": {\"fill\": {\"color\": \"#C8D4E3\"}, \"line\": {\"color\": \"white\"}}, \"type\": \"table\"}]}, \"layout\": {\"annotationdefaults\": {\"arrowcolor\": \"#2a3f5f\", \"arrowhead\": 0, \"arrowwidth\": 1}, \"coloraxis\": {\"colorbar\": {\"outlinewidth\": 0, \"ticks\": \"\"}}, \"colorscale\": {\"diverging\": [[0, \"#8e0152\"], [0.1, \"#c51b7d\"], [0.2, \"#de77ae\"], [0.3, \"#f1b6da\"], [0.4, \"#fde0ef\"], [0.5, \"#f7f7f7\"], [0.6, \"#e6f5d0\"], [0.7, \"#b8e186\"], [0.8, \"#7fbc41\"], [0.9, \"#4d9221\"], [1, \"#276419\"]], \"sequential\": [[0.0, \"#0d0887\"], [0.1111111111111111, \"#46039f\"], [0.2222222222222222, \"#7201a8\"], [0.3333333333333333, \"#9c179e\"], [0.4444444444444444, \"#bd3786\"], [0.5555555555555556, \"#d8576b\"], [0.6666666666666666, \"#ed7953\"], [0.7777777777777778, \"#fb9f3a\"], [0.8888888888888888, \"#fdca26\"], [1.0, \"#f0f921\"]], \"sequentialminus\": [[0.0, \"#0d0887\"], [0.1111111111111111, \"#46039f\"], [0.2222222222222222, \"#7201a8\"], [0.3333333333333333, \"#9c179e\"], [0.4444444444444444, \"#bd3786\"], [0.5555555555555556, \"#d8576b\"], [0.6666666666666666, \"#ed7953\"], [0.7777777777777778, \"#fb9f3a\"], [0.8888888888888888, \"#fdca26\"], [1.0, \"#f0f921\"]]}, \"colorway\": [\"#636efa\", \"#EF553B\", \"#00cc96\", \"#ab63fa\", \"#FFA15A\", \"#19d3f3\", \"#FF6692\", \"#B6E880\", \"#FF97FF\", \"#FECB52\"], \"font\": {\"color\": \"#2a3f5f\"}, \"geo\": {\"bgcolor\": \"white\", \"lakecolor\": \"white\", \"landcolor\": \"#E5ECF6\", \"showlakes\": true, \"showland\": true, \"subunitcolor\": \"white\"}, \"hoverlabel\": {\"align\": \"left\"}, \"hovermode\": \"closest\", \"mapbox\": {\"style\": \"light\"}, \"paper_bgcolor\": \"white\", \"plot_bgcolor\": \"#E5ECF6\", \"polar\": {\"angularaxis\": {\"gridcolor\": \"white\", \"linecolor\": \"white\", \"ticks\": \"\"}, \"bgcolor\": \"#E5ECF6\", \"radialaxis\": {\"gridcolor\": \"white\", \"linecolor\": \"white\", \"ticks\": \"\"}}, \"scene\": {\"xaxis\": {\"backgroundcolor\": \"#E5ECF6\", \"gridcolor\": \"white\", \"gridwidth\": 2, \"linecolor\": \"white\", \"showbackground\": true, \"ticks\": \"\", \"zerolinecolor\": \"white\"}, \"yaxis\": {\"backgroundcolor\": \"#E5ECF6\", \"gridcolor\": \"white\", \"gridwidth\": 2, \"linecolor\": \"white\", \"showbackground\": true, \"ticks\": \"\", \"zerolinecolor\": \"white\"}, \"zaxis\": {\"backgroundcolor\": \"#E5ECF6\", \"gridcolor\": \"white\", \"gridwidth\": 2, \"linecolor\": \"white\", \"showbackground\": true, \"ticks\": \"\", \"zerolinecolor\": \"white\"}}, \"shapedefaults\": {\"line\": {\"color\": \"#2a3f5f\"}}, \"ternary\": {\"aaxis\": {\"gridcolor\": \"white\", \"linecolor\": \"white\", \"ticks\": \"\"}, \"baxis\": {\"gridcolor\": \"white\", \"linecolor\": \"white\", \"ticks\": \"\"}, \"bgcolor\": \"#E5ECF6\", \"caxis\": {\"gridcolor\": \"white\", \"linecolor\": \"white\", \"ticks\": \"\"}}, \"title\": {\"x\": 0.05}, \"xaxis\": {\"automargin\": true, \"gridcolor\": \"white\", \"linecolor\": \"white\", \"ticks\": \"\", \"title\": {\"standoff\": 15}, \"zerolinecolor\": \"white\", \"zerolinewidth\": 2}, \"yaxis\": {\"automargin\": true, \"gridcolor\": \"white\", \"linecolor\": \"white\", \"ticks\": \"\", \"title\": {\"standoff\": 15}, \"zerolinecolor\": \"white\", \"zerolinewidth\": 2}}}, \"title\": {\"text\": \"U.S. Debt to GDP Ratio\"}, \"xaxis\": {\"anchor\": \"y\", \"domain\": [0.0, 1.0], \"rangeselector\": {\"buttons\": [{\"count\": 1, \"label\": \"1m\", \"step\": \"month\", \"stepmode\": \"backward\"}, {\"count\": 6, \"label\": \"6m\", \"step\": \"month\", \"stepmode\": \"backward\"}, {\"count\": 1, \"label\": \"YTD\", \"step\": \"year\", \"stepmode\": \"todate\"}, {\"count\": 1, \"label\": \"1y\", \"step\": \"year\", \"stepmode\": \"backward\"}, {\"step\": \"all\"}]}, \"rangeslider\": {\"visible\": true}, \"title\": {\"text\": \"x\"}}, \"yaxis\": {\"anchor\": \"x\", \"domain\": [0.0, 1.0], \"title\": {\"text\": \"Debt/GDP Ratio\"}}},\n",
       "                        {\"responsive\": true}\n",
       "                    ).then(function(){\n",
       "                            \n",
       "var gd = document.getElementById('5b5823a0-238a-4e04-b175-b6c8f4e359ab');\n",
       "var x = new MutationObserver(function (mutations, observer) {{\n",
       "        var display = window.getComputedStyle(gd).display;\n",
       "        if (!display || display === 'none') {{\n",
       "            console.log([gd, 'removed!']);\n",
       "            Plotly.purge(gd);\n",
       "            observer.disconnect();\n",
       "        }}\n",
       "}});\n",
       "\n",
       "// Listen for the removal of the full notebook cells\n",
       "var notebookContainer = gd.closest('#notebook-container');\n",
       "if (notebookContainer) {{\n",
       "    x.observe(notebookContainer, {childList: true});\n",
       "}}\n",
       "\n",
       "// Listen for the clearing of the current output cell\n",
       "var outputEl = gd.closest('.output');\n",
       "if (outputEl) {{\n",
       "    x.observe(outputEl, {childList: true});\n",
       "}}\n",
       "\n",
       "                        })\n",
       "                };\n",
       "                });\n",
       "            </script>\n",
       "        </div>"
      ]
     },
     "metadata": {},
     "output_type": "display_data"
    }
   ],
   "source": [
    "debt_to_gdp_vis = px.line(debt_to_gdp, x=df.index, y=\"Debt/GDP Ratio\", title='U.S. Debt to GDP Ratio')\n",
    "debt_to_gdp_vis.update_xaxes(\n",
    "    rangeslider_visible=True,\n",
    "    rangeselector=dict(\n",
    "        buttons=list([\n",
    "            dict(count=1, label=\"1m\", step=\"month\", stepmode=\"backward\"),\n",
    "            dict(count=6, label=\"6m\", step=\"month\", stepmode=\"backward\"),\n",
    "            dict(count=1, label=\"YTD\", step=\"year\", stepmode=\"todate\"),\n",
    "            dict(count=1, label=\"1y\", step=\"year\", stepmode=\"backward\"),\n",
    "            dict(step=\"all\")\n",
    "        ])\n",
    "    )\n",
    ")\n",
    "debt_to_gdp_vis.show()"
   ]
  },
  {
   "cell_type": "code",
   "execution_count": null,
   "metadata": {},
   "outputs": [],
   "source": []
  }
 ],
 "metadata": {
  "kernelspec": {
   "display_name": "Python 3",
   "language": "python",
   "name": "python3"
  },
  "language_info": {
   "codemirror_mode": {
    "name": "ipython",
    "version": 3
   },
   "file_extension": ".py",
   "mimetype": "text/x-python",
   "name": "python",
   "nbconvert_exporter": "python",
   "pygments_lexer": "ipython3",
   "version": "3.7.4"
  }
 },
 "nbformat": 4,
 "nbformat_minor": 4
}
